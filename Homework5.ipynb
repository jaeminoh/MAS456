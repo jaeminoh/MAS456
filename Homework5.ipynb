{
 "cells": [
  {
   "cell_type": "code",
   "execution_count": 1,
   "id": "8f58799f",
   "metadata": {},
   "outputs": [],
   "source": [
    "import numpy as np\n",
    "import pandas as pd\n",
    "import matplotlib.pyplot as plt"
   ]
  },
  {
   "cell_type": "markdown",
   "id": "f8ae7996",
   "metadata": {},
   "source": [
    "# Chapter 12"
   ]
  },
  {
   "cell_type": "markdown",
   "id": "a8cad368",
   "metadata": {},
   "source": [
    "## Problem 12.8"
   ]
  },
  {
   "cell_type": "code",
   "execution_count": 2,
   "id": "e68959f7",
   "metadata": {},
   "outputs": [],
   "source": [
    "from statsmodels.datasets import get_rdataset\n",
    "from sklearn.decomposition import PCA\n",
    "from sklearn.preprocessing import StandardScaler"
   ]
  },
  {
   "cell_type": "markdown",
   "id": "26efeb27",
   "metadata": {},
   "source": [
    "### 12.8.(a)"
   ]
  },
  {
   "cell_type": "code",
   "execution_count": 3,
   "id": "1a2bc76b",
   "metadata": {},
   "outputs": [
    {
     "data": {
      "text/html": [
       "<div>\n",
       "<style scoped>\n",
       "    .dataframe tbody tr th:only-of-type {\n",
       "        vertical-align: middle;\n",
       "    }\n",
       "\n",
       "    .dataframe tbody tr th {\n",
       "        vertical-align: top;\n",
       "    }\n",
       "\n",
       "    .dataframe thead th {\n",
       "        text-align: right;\n",
       "    }\n",
       "</style>\n",
       "<table border=\"1\" class=\"dataframe\">\n",
       "  <thead>\n",
       "    <tr style=\"text-align: right;\">\n",
       "      <th></th>\n",
       "      <th>Murder</th>\n",
       "      <th>Assault</th>\n",
       "      <th>UrbanPop</th>\n",
       "      <th>Rape</th>\n",
       "    </tr>\n",
       "    <tr>\n",
       "      <th>rownames</th>\n",
       "      <th></th>\n",
       "      <th></th>\n",
       "      <th></th>\n",
       "      <th></th>\n",
       "    </tr>\n",
       "  </thead>\n",
       "  <tbody>\n",
       "    <tr>\n",
       "      <th>Alabama</th>\n",
       "      <td>13.2</td>\n",
       "      <td>236</td>\n",
       "      <td>58</td>\n",
       "      <td>21.2</td>\n",
       "    </tr>\n",
       "    <tr>\n",
       "      <th>Alaska</th>\n",
       "      <td>10.0</td>\n",
       "      <td>263</td>\n",
       "      <td>48</td>\n",
       "      <td>44.5</td>\n",
       "    </tr>\n",
       "    <tr>\n",
       "      <th>Arizona</th>\n",
       "      <td>8.1</td>\n",
       "      <td>294</td>\n",
       "      <td>80</td>\n",
       "      <td>31.0</td>\n",
       "    </tr>\n",
       "    <tr>\n",
       "      <th>Arkansas</th>\n",
       "      <td>8.8</td>\n",
       "      <td>190</td>\n",
       "      <td>50</td>\n",
       "      <td>19.5</td>\n",
       "    </tr>\n",
       "    <tr>\n",
       "      <th>California</th>\n",
       "      <td>9.0</td>\n",
       "      <td>276</td>\n",
       "      <td>91</td>\n",
       "      <td>40.6</td>\n",
       "    </tr>\n",
       "  </tbody>\n",
       "</table>\n",
       "</div>"
      ],
      "text/plain": [
       "            Murder  Assault  UrbanPop  Rape\n",
       "rownames                                   \n",
       "Alabama       13.2      236        58  21.2\n",
       "Alaska        10.0      263        48  44.5\n",
       "Arizona        8.1      294        80  31.0\n",
       "Arkansas       8.8      190        50  19.5\n",
       "California     9.0      276        91  40.6"
      ]
     },
     "execution_count": 3,
     "metadata": {},
     "output_type": "execute_result"
    }
   ],
   "source": [
    "df = get_rdataset('USArrests').data\n",
    "df.head()"
   ]
  },
  {
   "cell_type": "code",
   "execution_count": 4,
   "id": "b42d2ac5",
   "metadata": {},
   "outputs": [
    {
     "name": "stdout",
     "output_type": "stream",
     "text": [
      "Explained variance ratio via PCA:\n",
      "[0.62006039 0.24744129 0.0891408  0.04335752]\n"
     ]
    }
   ],
   "source": [
    "scaler = StandardScaler(with_std=True, with_mean=True)\n",
    "df = scaler.fit_transform(df)\n",
    "print(\"Explained variance ratio via PCA:\")\n",
    "pca = PCA()\n",
    "pca.fit(df)\n",
    "print(pca.explained_variance_ratio_)"
   ]
  },
  {
   "cell_type": "markdown",
   "id": "38205b66",
   "metadata": {},
   "source": [
    "### 12.8.(b)"
   ]
  },
  {
   "cell_type": "code",
   "execution_count": 5,
   "id": "810a81a7",
   "metadata": {},
   "outputs": [
    {
     "name": "stdout",
     "output_type": "stream",
     "text": [
      "Loadings: [[ 0.53589947  0.58318363  0.27819087  0.54343209]\n",
      " [ 0.41818087  0.1879856  -0.87280619 -0.16731864]\n",
      " [-0.34123273 -0.26814843 -0.37801579  0.81777791]\n",
      " [ 0.6492278  -0.74340748  0.13387773  0.08902432]]\n"
     ]
    }
   ],
   "source": [
    "print(f\"Loadings: {(loadings:=pca.components_)}\")"
   ]
  },
  {
   "cell_type": "code",
   "execution_count": 6,
   "id": "b0b8c1c5",
   "metadata": {},
   "outputs": [
    {
     "name": "stdout",
     "output_type": "stream",
     "text": [
      "total variance: 200.0\n",
      "explained variances: [124.01207896  49.48825763  17.82815903   8.67150439]\n",
      "PVE: [0.62006039 0.24744129 0.0891408  0.04335752]\n"
     ]
    }
   ],
   "source": [
    "e_var = ((df @ loadings.T)**2).sum(0)\n",
    "t_var = (df ** 2).sum()\n",
    "print(f\"total variance: {t_var}\")\n",
    "print(f\"explained variances: {e_var}\")\n",
    "print(f\"PVE: {e_var / t_var}\")"
   ]
  },
  {
   "cell_type": "markdown",
   "id": "51d679e9",
   "metadata": {},
   "source": [
    "## Problem 12.9"
   ]
  },
  {
   "cell_type": "markdown",
   "id": "119bf00e",
   "metadata": {},
   "source": [
    "### 12.9.(a)"
   ]
  },
  {
   "cell_type": "code",
   "execution_count": 7,
   "id": "09f4bd80",
   "metadata": {},
   "outputs": [],
   "source": [
    "from sklearn.cluster import KMeans, AgglomerativeClustering\n",
    "from scipy.cluster.hierarchy import dendrogram, cut_tree\n",
    "from ISLP.cluster import compute_linkage"
   ]
  },
  {
   "cell_type": "code",
   "execution_count": 8,
   "id": "c05d811d",
   "metadata": {},
   "outputs": [
    {
     "name": "stdout",
     "output_type": "stream",
     "text": [
      "Complete linkage\n"
     ]
    },
    {
     "data": {
      "image/png": "[encoded data removed]",
      "text/plain": [
       "<Figure size 800x800 with 1 Axes>"
      ]
     },
     "metadata": {},
     "output_type": "display_data"
    }
   ],
   "source": [
    "model = AgglomerativeClustering(\n",
    "    distance_threshold=0, n_clusters=None, linkage='complete'\n",
    ")\n",
    "df = get_rdataset('USArrests').data\n",
    "model.fit(df)\n",
    "print(\"Complete linkage\")\n",
    "cargs = {'color_threshold':-np.inf ,'above_threshold_color':'black'}\n",
    "linkage_comp = compute_linkage(model);\n",
    "fig , ax = plt.subplots (1, 1, figsize =(8, 8));\n",
    "dendrogram(linkage_comp, ax=ax, **cargs);"
   ]
  },
  {
   "cell_type": "markdown",
   "id": "f6954d67",
   "metadata": {},
   "source": [
    "### 12.9.(b)"
   ]
  },
  {
   "cell_type": "code",
   "execution_count": 9,
   "id": "c9dfdb31",
   "metadata": {},
   "outputs": [
    {
     "name": "stdout",
     "output_type": "stream",
     "text": [
      "cluster index: [0 0 0 1 0 1 2 0 0 1 2 2 0 2 2 2 2 0 2 0 1 0 2 0 1 2 2 0 2 1 0 0 0 2 2 1 1\n",
      " 2 1 0 2 1 1 2 2 1 1 2 2 1]\n"
     ]
    }
   ],
   "source": [
    "cluster = cut_tree(linkage_comp, n_clusters = 3).squeeze()\n",
    "print(f\"cluster index: {cluster}\")"
   ]
  },
  {
   "cell_type": "code",
   "execution_count": 10,
   "id": "d58dbb4a",
   "metadata": {
    "scrolled": false
   },
   "outputs": [
    {
     "name": "stdout",
     "output_type": "stream",
     "text": [
      "Cluster 0\n"
     ]
    },
    {
     "data": {
      "text/html": [
       "<div>\n",
       "<style scoped>\n",
       "    .dataframe tbody tr th:only-of-type {\n",
       "        vertical-align: middle;\n",
       "    }\n",
       "\n",
       "    .dataframe tbody tr th {\n",
       "        vertical-align: top;\n",
       "    }\n",
       "\n",
       "    .dataframe thead th {\n",
       "        text-align: right;\n",
       "    }\n",
       "</style>\n",
       "<table border=\"1\" class=\"dataframe\">\n",
       "  <thead>\n",
       "    <tr style=\"text-align: right;\">\n",
       "      <th></th>\n",
       "      <th>Murder</th>\n",
       "      <th>Assault</th>\n",
       "      <th>UrbanPop</th>\n",
       "      <th>Rape</th>\n",
       "    </tr>\n",
       "    <tr>\n",
       "      <th>rownames</th>\n",
       "      <th></th>\n",
       "      <th></th>\n",
       "      <th></th>\n",
       "      <th></th>\n",
       "    </tr>\n",
       "  </thead>\n",
       "  <tbody>\n",
       "    <tr>\n",
       "      <th>Alabama</th>\n",
       "      <td>13.2</td>\n",
       "      <td>236</td>\n",
       "      <td>58</td>\n",
       "      <td>21.2</td>\n",
       "    </tr>\n",
       "    <tr>\n",
       "      <th>Alaska</th>\n",
       "      <td>10.0</td>\n",
       "      <td>263</td>\n",
       "      <td>48</td>\n",
       "      <td>44.5</td>\n",
       "    </tr>\n",
       "    <tr>\n",
       "      <th>Arizona</th>\n",
       "      <td>8.1</td>\n",
       "      <td>294</td>\n",
       "      <td>80</td>\n",
       "      <td>31.0</td>\n",
       "    </tr>\n",
       "    <tr>\n",
       "      <th>California</th>\n",
       "      <td>9.0</td>\n",
       "      <td>276</td>\n",
       "      <td>91</td>\n",
       "      <td>40.6</td>\n",
       "    </tr>\n",
       "    <tr>\n",
       "      <th>Delaware</th>\n",
       "      <td>5.9</td>\n",
       "      <td>238</td>\n",
       "      <td>72</td>\n",
       "      <td>15.8</td>\n",
       "    </tr>\n",
       "    <tr>\n",
       "      <th>Florida</th>\n",
       "      <td>15.4</td>\n",
       "      <td>335</td>\n",
       "      <td>80</td>\n",
       "      <td>31.9</td>\n",
       "    </tr>\n",
       "    <tr>\n",
       "      <th>Illinois</th>\n",
       "      <td>10.4</td>\n",
       "      <td>249</td>\n",
       "      <td>83</td>\n",
       "      <td>24.0</td>\n",
       "    </tr>\n",
       "    <tr>\n",
       "      <th>Louisiana</th>\n",
       "      <td>15.4</td>\n",
       "      <td>249</td>\n",
       "      <td>66</td>\n",
       "      <td>22.2</td>\n",
       "    </tr>\n",
       "    <tr>\n",
       "      <th>Maryland</th>\n",
       "      <td>11.3</td>\n",
       "      <td>300</td>\n",
       "      <td>67</td>\n",
       "      <td>27.8</td>\n",
       "    </tr>\n",
       "    <tr>\n",
       "      <th>Michigan</th>\n",
       "      <td>12.1</td>\n",
       "      <td>255</td>\n",
       "      <td>74</td>\n",
       "      <td>35.1</td>\n",
       "    </tr>\n",
       "    <tr>\n",
       "      <th>Mississippi</th>\n",
       "      <td>16.1</td>\n",
       "      <td>259</td>\n",
       "      <td>44</td>\n",
       "      <td>17.1</td>\n",
       "    </tr>\n",
       "    <tr>\n",
       "      <th>Nevada</th>\n",
       "      <td>12.2</td>\n",
       "      <td>252</td>\n",
       "      <td>81</td>\n",
       "      <td>46.0</td>\n",
       "    </tr>\n",
       "    <tr>\n",
       "      <th>New Mexico</th>\n",
       "      <td>11.4</td>\n",
       "      <td>285</td>\n",
       "      <td>70</td>\n",
       "      <td>32.1</td>\n",
       "    </tr>\n",
       "    <tr>\n",
       "      <th>New York</th>\n",
       "      <td>11.1</td>\n",
       "      <td>254</td>\n",
       "      <td>86</td>\n",
       "      <td>26.1</td>\n",
       "    </tr>\n",
       "    <tr>\n",
       "      <th>North Carolina</th>\n",
       "      <td>13.0</td>\n",
       "      <td>337</td>\n",
       "      <td>45</td>\n",
       "      <td>16.1</td>\n",
       "    </tr>\n",
       "    <tr>\n",
       "      <th>South Carolina</th>\n",
       "      <td>14.4</td>\n",
       "      <td>279</td>\n",
       "      <td>48</td>\n",
       "      <td>22.5</td>\n",
       "    </tr>\n",
       "  </tbody>\n",
       "</table>\n",
       "</div>"
      ],
      "text/plain": [
       "                Murder  Assault  UrbanPop  Rape\n",
       "rownames                                       \n",
       "Alabama           13.2      236        58  21.2\n",
       "Alaska            10.0      263        48  44.5\n",
       "Arizona            8.1      294        80  31.0\n",
       "California         9.0      276        91  40.6\n",
       "Delaware           5.9      238        72  15.8\n",
       "Florida           15.4      335        80  31.9\n",
       "Illinois          10.4      249        83  24.0\n",
       "Louisiana         15.4      249        66  22.2\n",
       "Maryland          11.3      300        67  27.8\n",
       "Michigan          12.1      255        74  35.1\n",
       "Mississippi       16.1      259        44  17.1\n",
       "Nevada            12.2      252        81  46.0\n",
       "New Mexico        11.4      285        70  32.1\n",
       "New York          11.1      254        86  26.1\n",
       "North Carolina    13.0      337        45  16.1\n",
       "South Carolina    14.4      279        48  22.5"
      ]
     },
     "execution_count": 10,
     "metadata": {},
     "output_type": "execute_result"
    }
   ],
   "source": [
    "print(\"Cluster 0\")\n",
    "df.iloc[cluster==0]"
   ]
  },
  {
   "cell_type": "code",
   "execution_count": 11,
   "id": "ab67e829",
   "metadata": {
    "scrolled": false
   },
   "outputs": [
    {
     "name": "stdout",
     "output_type": "stream",
     "text": [
      "Cluster 1\n"
     ]
    },
    {
     "data": {
      "text/html": [
       "<div>\n",
       "<style scoped>\n",
       "    .dataframe tbody tr th:only-of-type {\n",
       "        vertical-align: middle;\n",
       "    }\n",
       "\n",
       "    .dataframe tbody tr th {\n",
       "        vertical-align: top;\n",
       "    }\n",
       "\n",
       "    .dataframe thead th {\n",
       "        text-align: right;\n",
       "    }\n",
       "</style>\n",
       "<table border=\"1\" class=\"dataframe\">\n",
       "  <thead>\n",
       "    <tr style=\"text-align: right;\">\n",
       "      <th></th>\n",
       "      <th>Murder</th>\n",
       "      <th>Assault</th>\n",
       "      <th>UrbanPop</th>\n",
       "      <th>Rape</th>\n",
       "    </tr>\n",
       "    <tr>\n",
       "      <th>rownames</th>\n",
       "      <th></th>\n",
       "      <th></th>\n",
       "      <th></th>\n",
       "      <th></th>\n",
       "    </tr>\n",
       "  </thead>\n",
       "  <tbody>\n",
       "    <tr>\n",
       "      <th>Arkansas</th>\n",
       "      <td>8.8</td>\n",
       "      <td>190</td>\n",
       "      <td>50</td>\n",
       "      <td>19.5</td>\n",
       "    </tr>\n",
       "    <tr>\n",
       "      <th>Colorado</th>\n",
       "      <td>7.9</td>\n",
       "      <td>204</td>\n",
       "      <td>78</td>\n",
       "      <td>38.7</td>\n",
       "    </tr>\n",
       "    <tr>\n",
       "      <th>Georgia</th>\n",
       "      <td>17.4</td>\n",
       "      <td>211</td>\n",
       "      <td>60</td>\n",
       "      <td>25.8</td>\n",
       "    </tr>\n",
       "    <tr>\n",
       "      <th>Massachusetts</th>\n",
       "      <td>4.4</td>\n",
       "      <td>149</td>\n",
       "      <td>85</td>\n",
       "      <td>16.3</td>\n",
       "    </tr>\n",
       "    <tr>\n",
       "      <th>Missouri</th>\n",
       "      <td>9.0</td>\n",
       "      <td>178</td>\n",
       "      <td>70</td>\n",
       "      <td>28.2</td>\n",
       "    </tr>\n",
       "    <tr>\n",
       "      <th>New Jersey</th>\n",
       "      <td>7.4</td>\n",
       "      <td>159</td>\n",
       "      <td>89</td>\n",
       "      <td>18.8</td>\n",
       "    </tr>\n",
       "    <tr>\n",
       "      <th>Oklahoma</th>\n",
       "      <td>6.6</td>\n",
       "      <td>151</td>\n",
       "      <td>68</td>\n",
       "      <td>20.0</td>\n",
       "    </tr>\n",
       "    <tr>\n",
       "      <th>Oregon</th>\n",
       "      <td>4.9</td>\n",
       "      <td>159</td>\n",
       "      <td>67</td>\n",
       "      <td>29.3</td>\n",
       "    </tr>\n",
       "    <tr>\n",
       "      <th>Rhode Island</th>\n",
       "      <td>3.4</td>\n",
       "      <td>174</td>\n",
       "      <td>87</td>\n",
       "      <td>8.3</td>\n",
       "    </tr>\n",
       "    <tr>\n",
       "      <th>Tennessee</th>\n",
       "      <td>13.2</td>\n",
       "      <td>188</td>\n",
       "      <td>59</td>\n",
       "      <td>26.9</td>\n",
       "    </tr>\n",
       "    <tr>\n",
       "      <th>Texas</th>\n",
       "      <td>12.7</td>\n",
       "      <td>201</td>\n",
       "      <td>80</td>\n",
       "      <td>25.5</td>\n",
       "    </tr>\n",
       "    <tr>\n",
       "      <th>Virginia</th>\n",
       "      <td>8.5</td>\n",
       "      <td>156</td>\n",
       "      <td>63</td>\n",
       "      <td>20.7</td>\n",
       "    </tr>\n",
       "    <tr>\n",
       "      <th>Washington</th>\n",
       "      <td>4.0</td>\n",
       "      <td>145</td>\n",
       "      <td>73</td>\n",
       "      <td>26.2</td>\n",
       "    </tr>\n",
       "    <tr>\n",
       "      <th>Wyoming</th>\n",
       "      <td>6.8</td>\n",
       "      <td>161</td>\n",
       "      <td>60</td>\n",
       "      <td>15.6</td>\n",
       "    </tr>\n",
       "  </tbody>\n",
       "</table>\n",
       "</div>"
      ],
      "text/plain": [
       "               Murder  Assault  UrbanPop  Rape\n",
       "rownames                                      \n",
       "Arkansas          8.8      190        50  19.5\n",
       "Colorado          7.9      204        78  38.7\n",
       "Georgia          17.4      211        60  25.8\n",
       "Massachusetts     4.4      149        85  16.3\n",
       "Missouri          9.0      178        70  28.2\n",
       "New Jersey        7.4      159        89  18.8\n",
       "Oklahoma          6.6      151        68  20.0\n",
       "Oregon            4.9      159        67  29.3\n",
       "Rhode Island      3.4      174        87   8.3\n",
       "Tennessee        13.2      188        59  26.9\n",
       "Texas            12.7      201        80  25.5\n",
       "Virginia          8.5      156        63  20.7\n",
       "Washington        4.0      145        73  26.2\n",
       "Wyoming           6.8      161        60  15.6"
      ]
     },
     "execution_count": 11,
     "metadata": {},
     "output_type": "execute_result"
    }
   ],
   "source": [
    "print(\"Cluster 1\")\n",
    "df.iloc[cluster==1]"
   ]
  },
  {
   "cell_type": "code",
   "execution_count": 12,
   "id": "8f6ee73a",
   "metadata": {},
   "outputs": [
    {
     "name": "stdout",
     "output_type": "stream",
     "text": [
      "Cluster 2\n"
     ]
    },
    {
     "data": {
      "text/html": [
       "<div>\n",
       "<style scoped>\n",
       "    .dataframe tbody tr th:only-of-type {\n",
       "        vertical-align: middle;\n",
       "    }\n",
       "\n",
       "    .dataframe tbody tr th {\n",
       "        vertical-align: top;\n",
       "    }\n",
       "\n",
       "    .dataframe thead th {\n",
       "        text-align: right;\n",
       "    }\n",
       "</style>\n",
       "<table border=\"1\" class=\"dataframe\">\n",
       "  <thead>\n",
       "    <tr style=\"text-align: right;\">\n",
       "      <th></th>\n",
       "      <th>Murder</th>\n",
       "      <th>Assault</th>\n",
       "      <th>UrbanPop</th>\n",
       "      <th>Rape</th>\n",
       "    </tr>\n",
       "    <tr>\n",
       "      <th>rownames</th>\n",
       "      <th></th>\n",
       "      <th></th>\n",
       "      <th></th>\n",
       "      <th></th>\n",
       "    </tr>\n",
       "  </thead>\n",
       "  <tbody>\n",
       "    <tr>\n",
       "      <th>Connecticut</th>\n",
       "      <td>3.3</td>\n",
       "      <td>110</td>\n",
       "      <td>77</td>\n",
       "      <td>11.1</td>\n",
       "    </tr>\n",
       "    <tr>\n",
       "      <th>Hawaii</th>\n",
       "      <td>5.3</td>\n",
       "      <td>46</td>\n",
       "      <td>83</td>\n",
       "      <td>20.2</td>\n",
       "    </tr>\n",
       "    <tr>\n",
       "      <th>Idaho</th>\n",
       "      <td>2.6</td>\n",
       "      <td>120</td>\n",
       "      <td>54</td>\n",
       "      <td>14.2</td>\n",
       "    </tr>\n",
       "    <tr>\n",
       "      <th>Indiana</th>\n",
       "      <td>7.2</td>\n",
       "      <td>113</td>\n",
       "      <td>65</td>\n",
       "      <td>21.0</td>\n",
       "    </tr>\n",
       "    <tr>\n",
       "      <th>Iowa</th>\n",
       "      <td>2.2</td>\n",
       "      <td>56</td>\n",
       "      <td>57</td>\n",
       "      <td>11.3</td>\n",
       "    </tr>\n",
       "    <tr>\n",
       "      <th>Kansas</th>\n",
       "      <td>6.0</td>\n",
       "      <td>115</td>\n",
       "      <td>66</td>\n",
       "      <td>18.0</td>\n",
       "    </tr>\n",
       "    <tr>\n",
       "      <th>Kentucky</th>\n",
       "      <td>9.7</td>\n",
       "      <td>109</td>\n",
       "      <td>52</td>\n",
       "      <td>16.3</td>\n",
       "    </tr>\n",
       "    <tr>\n",
       "      <th>Maine</th>\n",
       "      <td>2.1</td>\n",
       "      <td>83</td>\n",
       "      <td>51</td>\n",
       "      <td>7.8</td>\n",
       "    </tr>\n",
       "    <tr>\n",
       "      <th>Minnesota</th>\n",
       "      <td>2.7</td>\n",
       "      <td>72</td>\n",
       "      <td>66</td>\n",
       "      <td>14.9</td>\n",
       "    </tr>\n",
       "    <tr>\n",
       "      <th>Montana</th>\n",
       "      <td>6.0</td>\n",
       "      <td>109</td>\n",
       "      <td>53</td>\n",
       "      <td>16.4</td>\n",
       "    </tr>\n",
       "    <tr>\n",
       "      <th>Nebraska</th>\n",
       "      <td>4.3</td>\n",
       "      <td>102</td>\n",
       "      <td>62</td>\n",
       "      <td>16.5</td>\n",
       "    </tr>\n",
       "    <tr>\n",
       "      <th>New Hampshire</th>\n",
       "      <td>2.1</td>\n",
       "      <td>57</td>\n",
       "      <td>56</td>\n",
       "      <td>9.5</td>\n",
       "    </tr>\n",
       "    <tr>\n",
       "      <th>North Dakota</th>\n",
       "      <td>0.8</td>\n",
       "      <td>45</td>\n",
       "      <td>44</td>\n",
       "      <td>7.3</td>\n",
       "    </tr>\n",
       "    <tr>\n",
       "      <th>Ohio</th>\n",
       "      <td>7.3</td>\n",
       "      <td>120</td>\n",
       "      <td>75</td>\n",
       "      <td>21.4</td>\n",
       "    </tr>\n",
       "    <tr>\n",
       "      <th>Pennsylvania</th>\n",
       "      <td>6.3</td>\n",
       "      <td>106</td>\n",
       "      <td>72</td>\n",
       "      <td>14.9</td>\n",
       "    </tr>\n",
       "    <tr>\n",
       "      <th>South Dakota</th>\n",
       "      <td>3.8</td>\n",
       "      <td>86</td>\n",
       "      <td>45</td>\n",
       "      <td>12.8</td>\n",
       "    </tr>\n",
       "    <tr>\n",
       "      <th>Utah</th>\n",
       "      <td>3.2</td>\n",
       "      <td>120</td>\n",
       "      <td>80</td>\n",
       "      <td>22.9</td>\n",
       "    </tr>\n",
       "    <tr>\n",
       "      <th>Vermont</th>\n",
       "      <td>2.2</td>\n",
       "      <td>48</td>\n",
       "      <td>32</td>\n",
       "      <td>11.2</td>\n",
       "    </tr>\n",
       "    <tr>\n",
       "      <th>West Virginia</th>\n",
       "      <td>5.7</td>\n",
       "      <td>81</td>\n",
       "      <td>39</td>\n",
       "      <td>9.3</td>\n",
       "    </tr>\n",
       "    <tr>\n",
       "      <th>Wisconsin</th>\n",
       "      <td>2.6</td>\n",
       "      <td>53</td>\n",
       "      <td>66</td>\n",
       "      <td>10.8</td>\n",
       "    </tr>\n",
       "  </tbody>\n",
       "</table>\n",
       "</div>"
      ],
      "text/plain": [
       "               Murder  Assault  UrbanPop  Rape\n",
       "rownames                                      \n",
       "Connecticut       3.3      110        77  11.1\n",
       "Hawaii            5.3       46        83  20.2\n",
       "Idaho             2.6      120        54  14.2\n",
       "Indiana           7.2      113        65  21.0\n",
       "Iowa              2.2       56        57  11.3\n",
       "Kansas            6.0      115        66  18.0\n",
       "Kentucky          9.7      109        52  16.3\n",
       "Maine             2.1       83        51   7.8\n",
       "Minnesota         2.7       72        66  14.9\n",
       "Montana           6.0      109        53  16.4\n",
       "Nebraska          4.3      102        62  16.5\n",
       "New Hampshire     2.1       57        56   9.5\n",
       "North Dakota      0.8       45        44   7.3\n",
       "Ohio              7.3      120        75  21.4\n",
       "Pennsylvania      6.3      106        72  14.9\n",
       "South Dakota      3.8       86        45  12.8\n",
       "Utah              3.2      120        80  22.9\n",
       "Vermont           2.2       48        32  11.2\n",
       "West Virginia     5.7       81        39   9.3\n",
       "Wisconsin         2.6       53        66  10.8"
      ]
     },
     "execution_count": 12,
     "metadata": {},
     "output_type": "execute_result"
    }
   ],
   "source": [
    "print(\"Cluster 2\")\n",
    "df.iloc[cluster==2]"
   ]
  },
  {
   "cell_type": "code",
   "execution_count": 13,
   "id": "cfafee7f",
   "metadata": {},
   "outputs": [
    {
     "name": "stdout",
     "output_type": "stream",
     "text": [
      "\n",
      "      Those 3 clusters seem to be clusted by the frequency of Assault. (thresholds: 120, 210)\n",
      "      \n"
     ]
    }
   ],
   "source": [
    "print(\"\"\"\n",
    "      Those 3 clusters seem to be clusted by the frequency of Assault. (thresholds: 120, 210)\n",
    "      \"\"\")"
   ]
  },
  {
   "cell_type": "markdown",
   "id": "f79368d4",
   "metadata": {},
   "source": [
    "### 12.9.(c)"
   ]
  },
  {
   "cell_type": "code",
   "execution_count": 14,
   "id": "a91ac6d1",
   "metadata": {},
   "outputs": [
    {
     "name": "stdout",
     "output_type": "stream",
     "text": [
      "Complete linkage after scaling\n"
     ]
    },
    {
     "data": {
      "image/png": "[encoded data removed]",
      "text/plain": [
       "<Figure size 800x800 with 1 Axes>"
      ]
     },
     "metadata": {},
     "output_type": "display_data"
    }
   ],
   "source": [
    "df = scaler.fit_transform(df)\n",
    "model.fit(df)\n",
    "print(\"Complete linkage after scaling\")\n",
    "cargs = {'color_threshold':-np.inf ,'above_threshold_color':'black'}\n",
    "linkage_comp = compute_linkage(model);\n",
    "fig , ax = plt.subplots (1, 1, figsize =(8, 8));\n",
    "dendrogram(linkage_comp, ax=ax, **cargs);"
   ]
  },
  {
   "cell_type": "code",
   "execution_count": 15,
   "id": "ed746670",
   "metadata": {},
   "outputs": [
    {
     "name": "stdout",
     "output_type": "stream",
     "text": [
      "cluster index: [0 1 2 3 2 2 3 3 2 0 3 4 2 3 4 3 3 0 4 2 3 2 3 0 3 4 4 2 4 3 2 2 0 4 3 3 3\n",
      " 3 3 0 4 0 2 3 4 3 3 4 3 3]\n"
     ]
    }
   ],
   "source": [
    "cluster = cut_tree(linkage_comp, n_clusters=5).squeeze()\n",
    "print(f\"cluster index: {cluster}\")"
   ]
  },
  {
   "cell_type": "markdown",
   "id": "887c2d40",
   "metadata": {},
   "source": [
    "### 12.9.(d)"
   ]
  },
  {
   "cell_type": "code",
   "execution_count": 16,
   "id": "a84a9a66",
   "metadata": {},
   "outputs": [
    {
     "name": "stdout",
     "output_type": "stream",
     "text": [
      "\n",
      "    cluster0: \n",
      "\n",
      "        [ 1.59644066  0.97606837 -0.78540457  0.0489325 ],\n",
      "    cluster1: \n",
      "\n",
      "        [ 0.51301858  1.11805959 -1.22406668  2.50942392],\n",
      "    cluster2: \n",
      "\n",
      "        [0.75759426 1.13128272 0.94567938 1.22798509],\n",
      "    cluster3: \n",
      "\n",
      "        [-0.44450124 -0.43980335  0.36442187 -0.28591208],\n",
      "    cluster4: \n",
      "\n",
      "        [-1.0687114  -1.11587777 -1.13334338 -1.03556337],\n",
      "    \n"
     ]
    }
   ],
   "source": [
    "print(f\"\"\"\n",
    "    cluster0: \\n\n",
    "        {df[cluster==0].mean(0)},\n",
    "    cluster1: \\n\n",
    "        {df[cluster==1].mean(0)},\n",
    "    cluster2: \\n\n",
    "        {df[cluster==2].mean(0)},\n",
    "    cluster3: \\n\n",
    "        {df[cluster==3].mean(0)},\n",
    "    cluster4: \\n\n",
    "        {df[cluster==4].mean(0)},\n",
    "    \"\"\")"
   ]
  },
  {
   "cell_type": "markdown",
   "id": "67eea3ce",
   "metadata": {},
   "source": [
    "## Problem 12.13"
   ]
  },
  {
   "cell_type": "markdown",
   "id": "7161efaa",
   "metadata": {},
   "source": [
    "### 12.13.(a)"
   ]
  },
  {
   "cell_type": "code",
   "execution_count": 17,
   "id": "2e4a00f5",
   "metadata": {},
   "outputs": [
    {
     "data": {
      "text/html": [
       "<div>\n",
       "<style scoped>\n",
       "    .dataframe tbody tr th:only-of-type {\n",
       "        vertical-align: middle;\n",
       "    }\n",
       "\n",
       "    .dataframe tbody tr th {\n",
       "        vertical-align: top;\n",
       "    }\n",
       "\n",
       "    .dataframe thead th {\n",
       "        text-align: right;\n",
       "    }\n",
       "</style>\n",
       "<table border=\"1\" class=\"dataframe\">\n",
       "  <thead>\n",
       "    <tr style=\"text-align: right;\">\n",
       "      <th></th>\n",
       "      <th>0</th>\n",
       "      <th>1</th>\n",
       "      <th>2</th>\n",
       "      <th>3</th>\n",
       "      <th>4</th>\n",
       "      <th>5</th>\n",
       "      <th>6</th>\n",
       "      <th>7</th>\n",
       "      <th>8</th>\n",
       "      <th>9</th>\n",
       "      <th>...</th>\n",
       "      <th>990</th>\n",
       "      <th>991</th>\n",
       "      <th>992</th>\n",
       "      <th>993</th>\n",
       "      <th>994</th>\n",
       "      <th>995</th>\n",
       "      <th>996</th>\n",
       "      <th>997</th>\n",
       "      <th>998</th>\n",
       "      <th>999</th>\n",
       "    </tr>\n",
       "  </thead>\n",
       "  <tbody>\n",
       "    <tr>\n",
       "      <th>0</th>\n",
       "      <td>-0.961933</td>\n",
       "      <td>-0.292526</td>\n",
       "      <td>0.258788</td>\n",
       "      <td>-1.152132</td>\n",
       "      <td>0.195783</td>\n",
       "      <td>0.030124</td>\n",
       "      <td>0.085418</td>\n",
       "      <td>1.116610</td>\n",
       "      <td>-1.218857</td>\n",
       "      <td>1.267369</td>\n",
       "      <td>...</td>\n",
       "      <td>1.325041</td>\n",
       "      <td>-0.116171</td>\n",
       "      <td>-1.470146</td>\n",
       "      <td>-0.379272</td>\n",
       "      <td>-1.465006</td>\n",
       "      <td>1.075148</td>\n",
       "      <td>-1.226125</td>\n",
       "      <td>-3.056328</td>\n",
       "      <td>1.450658</td>\n",
       "      <td>0.717977</td>\n",
       "    </tr>\n",
       "    <tr>\n",
       "      <th>1</th>\n",
       "      <td>0.441803</td>\n",
       "      <td>-1.139267</td>\n",
       "      <td>-0.972845</td>\n",
       "      <td>-2.213168</td>\n",
       "      <td>0.593306</td>\n",
       "      <td>-0.691014</td>\n",
       "      <td>-1.113054</td>\n",
       "      <td>1.341700</td>\n",
       "      <td>-1.277279</td>\n",
       "      <td>-0.918349</td>\n",
       "      <td>...</td>\n",
       "      <td>0.740838</td>\n",
       "      <td>-0.162392</td>\n",
       "      <td>-0.633375</td>\n",
       "      <td>-0.895521</td>\n",
       "      <td>2.034465</td>\n",
       "      <td>3.003267</td>\n",
       "      <td>-0.501702</td>\n",
       "      <td>0.449889</td>\n",
       "      <td>1.310348</td>\n",
       "      <td>0.763482</td>\n",
       "    </tr>\n",
       "    <tr>\n",
       "      <th>2</th>\n",
       "      <td>-0.975005</td>\n",
       "      <td>0.195837</td>\n",
       "      <td>0.588486</td>\n",
       "      <td>-0.861525</td>\n",
       "      <td>0.282992</td>\n",
       "      <td>-0.403426</td>\n",
       "      <td>-0.677969</td>\n",
       "      <td>0.103278</td>\n",
       "      <td>-0.558925</td>\n",
       "      <td>-1.253500</td>\n",
       "      <td>...</td>\n",
       "      <td>-0.435533</td>\n",
       "      <td>-0.235912</td>\n",
       "      <td>1.446660</td>\n",
       "      <td>-1.127459</td>\n",
       "      <td>0.440849</td>\n",
       "      <td>-0.123441</td>\n",
       "      <td>-0.717430</td>\n",
       "      <td>1.880362</td>\n",
       "      <td>0.383837</td>\n",
       "      <td>0.313576</td>\n",
       "    </tr>\n",
       "    <tr>\n",
       "      <th>3</th>\n",
       "      <td>1.417504</td>\n",
       "      <td>-1.281121</td>\n",
       "      <td>-0.800258</td>\n",
       "      <td>0.630925</td>\n",
       "      <td>0.247147</td>\n",
       "      <td>-0.729859</td>\n",
       "      <td>-0.562929</td>\n",
       "      <td>0.390963</td>\n",
       "      <td>-1.344493</td>\n",
       "      <td>-1.067114</td>\n",
       "      <td>...</td>\n",
       "      <td>-3.065529</td>\n",
       "      <td>1.597294</td>\n",
       "      <td>0.737478</td>\n",
       "      <td>-0.631248</td>\n",
       "      <td>-0.530442</td>\n",
       "      <td>-1.036740</td>\n",
       "      <td>-0.169113</td>\n",
       "      <td>-0.742841</td>\n",
       "      <td>-0.408860</td>\n",
       "      <td>-0.326473</td>\n",
       "    </tr>\n",
       "    <tr>\n",
       "      <th>4</th>\n",
       "      <td>0.818815</td>\n",
       "      <td>-0.251439</td>\n",
       "      <td>-1.820398</td>\n",
       "      <td>0.951772</td>\n",
       "      <td>1.978668</td>\n",
       "      <td>-0.364099</td>\n",
       "      <td>0.938194</td>\n",
       "      <td>-1.927491</td>\n",
       "      <td>1.159115</td>\n",
       "      <td>-0.240638</td>\n",
       "      <td>...</td>\n",
       "      <td>-2.378938</td>\n",
       "      <td>-0.086946</td>\n",
       "      <td>-0.122342</td>\n",
       "      <td>1.418029</td>\n",
       "      <td>1.075337</td>\n",
       "      <td>-1.270604</td>\n",
       "      <td>0.599530</td>\n",
       "      <td>2.238346</td>\n",
       "      <td>-0.471111</td>\n",
       "      <td>-0.158700</td>\n",
       "    </tr>\n",
       "  </tbody>\n",
       "</table>\n",
       "<p>5 rows × 1000 columns</p>\n",
       "</div>"
      ],
      "text/plain": [
       "        0         1         2         3         4         5         6    \\\n",
       "0 -0.961933 -0.292526  0.258788 -1.152132  0.195783  0.030124  0.085418   \n",
       "1  0.441803 -1.139267 -0.972845 -2.213168  0.593306 -0.691014 -1.113054   \n",
       "2 -0.975005  0.195837  0.588486 -0.861525  0.282992 -0.403426 -0.677969   \n",
       "3  1.417504 -1.281121 -0.800258  0.630925  0.247147 -0.729859 -0.562929   \n",
       "4  0.818815 -0.251439 -1.820398  0.951772  1.978668 -0.364099  0.938194   \n",
       "\n",
       "        7         8         9    ...       990       991       992       993  \\\n",
       "0  1.116610 -1.218857  1.267369  ...  1.325041 -0.116171 -1.470146 -0.379272   \n",
       "1  1.341700 -1.277279 -0.918349  ...  0.740838 -0.162392 -0.633375 -0.895521   \n",
       "2  0.103278 -0.558925 -1.253500  ... -0.435533 -0.235912  1.446660 -1.127459   \n",
       "3  0.390963 -1.344493 -1.067114  ... -3.065529  1.597294  0.737478 -0.631248   \n",
       "4 -1.927491  1.159115 -0.240638  ... -2.378938 -0.086946 -0.122342  1.418029   \n",
       "\n",
       "        994       995       996       997       998       999  \n",
       "0 -1.465006  1.075148 -1.226125 -3.056328  1.450658  0.717977  \n",
       "1  2.034465  3.003267 -0.501702  0.449889  1.310348  0.763482  \n",
       "2  0.440849 -0.123441 -0.717430  1.880362  0.383837  0.313576  \n",
       "3 -0.530442 -1.036740 -0.169113 -0.742841 -0.408860 -0.326473  \n",
       "4  1.075337 -1.270604  0.599530  2.238346 -0.471111 -0.158700  \n",
       "\n",
       "[5 rows x 1000 columns]"
      ]
     },
     "execution_count": 17,
     "metadata": {},
     "output_type": "execute_result"
    }
   ],
   "source": [
    "df_gen = pd.read_csv(\"Ch12Ex13.csv\", header=None).T\n",
    "df_gen.head()"
   ]
  },
  {
   "cell_type": "markdown",
   "id": "b244c1f5",
   "metadata": {},
   "source": [
    "### 12.13.(b)"
   ]
  },
  {
   "cell_type": "code",
   "execution_count": 18,
   "id": "e94f8e30",
   "metadata": {},
   "outputs": [
    {
     "data": {
      "text/html": [
       "<style>#sk-container-id-1 {color: black;}#sk-container-id-1 pre{padding: 0;}#sk-container-id-1 div.sk-toggleable {background-color: white;}#sk-container-id-1 label.sk-toggleable__label {cursor: pointer;display: block;width: 100%;margin-bottom: 0;padding: 0.3em;box-sizing: border-box;text-align: center;}#sk-container-id-1 label.sk-toggleable__label-arrow:before {content: \"▸\";float: left;margin-right: 0.25em;color: #696969;}#sk-container-id-1 label.sk-toggleable__label-arrow:hover:before {color: black;}#sk-container-id-1 div.sk-estimator:hover label.sk-toggleable__label-arrow:before {color: black;}#sk-container-id-1 div.sk-toggleable__content {max-height: 0;max-width: 0;overflow: hidden;text-align: left;background-color: #f0f8ff;}#sk-container-id-1 div.sk-toggleable__content pre {margin: 0.2em;color: black;border-radius: 0.25em;background-color: #f0f8ff;}#sk-container-id-1 input.sk-toggleable__control:checked~div.sk-toggleable__content {max-height: 200px;max-width: 100%;overflow: auto;}#sk-container-id-1 input.sk-toggleable__control:checked~label.sk-toggleable__label-arrow:before {content: \"▾\";}#sk-container-id-1 div.sk-estimator input.sk-toggleable__control:checked~label.sk-toggleable__label {background-color: #d4ebff;}#sk-container-id-1 div.sk-label input.sk-toggleable__control:checked~label.sk-toggleable__label {background-color: #d4ebff;}#sk-container-id-1 input.sk-hidden--visually {border: 0;clip: rect(1px 1px 1px 1px);clip: rect(1px, 1px, 1px, 1px);height: 1px;margin: -1px;overflow: hidden;padding: 0;position: absolute;width: 1px;}#sk-container-id-1 div.sk-estimator {font-family: monospace;background-color: #f0f8ff;border: 1px dotted black;border-radius: 0.25em;box-sizing: border-box;margin-bottom: 0.5em;}#sk-container-id-1 div.sk-estimator:hover {background-color: #d4ebff;}#sk-container-id-1 div.sk-parallel-item::after {content: \"\";width: 100%;border-bottom: 1px solid gray;flex-grow: 1;}#sk-container-id-1 div.sk-label:hover label.sk-toggleable__label {background-color: #d4ebff;}#sk-container-id-1 div.sk-serial::before {content: \"\";position: absolute;border-left: 1px solid gray;box-sizing: border-box;top: 0;bottom: 0;left: 50%;z-index: 0;}#sk-container-id-1 div.sk-serial {display: flex;flex-direction: column;align-items: center;background-color: white;padding-right: 0.2em;padding-left: 0.2em;position: relative;}#sk-container-id-1 div.sk-item {position: relative;z-index: 1;}#sk-container-id-1 div.sk-parallel {display: flex;align-items: stretch;justify-content: center;background-color: white;position: relative;}#sk-container-id-1 div.sk-item::before, #sk-container-id-1 div.sk-parallel-item::before {content: \"\";position: absolute;border-left: 1px solid gray;box-sizing: border-box;top: 0;bottom: 0;left: 50%;z-index: -1;}#sk-container-id-1 div.sk-parallel-item {display: flex;flex-direction: column;z-index: 1;position: relative;background-color: white;}#sk-container-id-1 div.sk-parallel-item:first-child::after {align-self: flex-end;width: 50%;}#sk-container-id-1 div.sk-parallel-item:last-child::after {align-self: flex-start;width: 50%;}#sk-container-id-1 div.sk-parallel-item:only-child::after {width: 0;}#sk-container-id-1 div.sk-dashed-wrapped {border: 1px dashed gray;margin: 0 0.4em 0.5em 0.4em;box-sizing: border-box;padding-bottom: 0.4em;background-color: white;}#sk-container-id-1 div.sk-label label {font-family: monospace;font-weight: bold;display: inline-block;line-height: 1.2em;}#sk-container-id-1 div.sk-label-container {text-align: center;}#sk-container-id-1 div.sk-container {/* jupyter's `normalize.less` sets `[hidden] { display: none; }` but bootstrap.min.css set `[hidden] { display: none !important; }` so we also need the `!important` here to be able to override the default hidden behavior on the sphinx rendered scikit-learn.org. See: https://github.com/scikit-learn/scikit-learn/issues/21755 */display: inline-block !important;position: relative;}#sk-container-id-1 div.sk-text-repr-fallback {display: none;}</style><div id=\"sk-container-id-1\" class=\"sk-top-container\"><div class=\"sk-text-repr-fallback\"><pre>AgglomerativeClustering(distance_threshold=0, linkage=&#x27;complete&#x27;,\n",
       "                        metric=&#x27;precomputed&#x27;, n_clusters=None)</pre><b>In a Jupyter environment, please rerun this cell to show the HTML representation or trust the notebook. <br />On GitHub, the HTML representation is unable to render, please try loading this page with nbviewer.org.</b></div><div class=\"sk-container\" hidden><div class=\"sk-item\"><div class=\"sk-estimator sk-toggleable\"><input class=\"sk-toggleable__control sk-hidden--visually\" id=\"sk-estimator-id-1\" type=\"checkbox\" checked><label for=\"sk-estimator-id-1\" class=\"sk-toggleable__label sk-toggleable__label-arrow\">AgglomerativeClustering</label><div class=\"sk-toggleable__content\"><pre>AgglomerativeClustering(distance_threshold=0, linkage=&#x27;complete&#x27;,\n",
       "                        metric=&#x27;precomputed&#x27;, n_clusters=None)</pre></div></div></div></div></div>"
      ],
      "text/plain": [
       "AgglomerativeClustering(distance_threshold=0, linkage='complete',\n",
       "                        metric='precomputed', n_clusters=None)"
      ]
     },
     "execution_count": 18,
     "metadata": {},
     "output_type": "execute_result"
    }
   ],
   "source": [
    "corD = 1 - np.corrcoef(df_gen)\n",
    "model = AgglomerativeClustering(\n",
    "    linkage='complete', distance_threshold=0, n_clusters=None, metric='precomputed'\n",
    "    )\n",
    "model.fit(corD)"
   ]
  },
  {
   "cell_type": "code",
   "execution_count": 19,
   "id": "ac1c84cf",
   "metadata": {},
   "outputs": [
    {
     "data": {
      "image/png": "[encoded data removed]",
      "text/plain": [
       "<Figure size 800x800 with 1 Axes>"
      ]
     },
     "metadata": {},
     "output_type": "display_data"
    }
   ],
   "source": [
    "linkage_cor = compute_linkage(model)\n",
    "fig , ax = plt.subplots(figsize =(8, 8))\n",
    "dendrogram(linkage_cor , ax=ax , ** cargs)\n",
    "ax.set_title(\"complete linkage\");"
   ]
  },
  {
   "cell_type": "code",
   "execution_count": 20,
   "id": "a800189f",
   "metadata": {},
   "outputs": [
    {
     "data": {
      "text/html": [
       "<style>#sk-container-id-2 {color: black;}#sk-container-id-2 pre{padding: 0;}#sk-container-id-2 div.sk-toggleable {background-color: white;}#sk-container-id-2 label.sk-toggleable__label {cursor: pointer;display: block;width: 100%;margin-bottom: 0;padding: 0.3em;box-sizing: border-box;text-align: center;}#sk-container-id-2 label.sk-toggleable__label-arrow:before {content: \"▸\";float: left;margin-right: 0.25em;color: #696969;}#sk-container-id-2 label.sk-toggleable__label-arrow:hover:before {color: black;}#sk-container-id-2 div.sk-estimator:hover label.sk-toggleable__label-arrow:before {color: black;}#sk-container-id-2 div.sk-toggleable__content {max-height: 0;max-width: 0;overflow: hidden;text-align: left;background-color: #f0f8ff;}#sk-container-id-2 div.sk-toggleable__content pre {margin: 0.2em;color: black;border-radius: 0.25em;background-color: #f0f8ff;}#sk-container-id-2 input.sk-toggleable__control:checked~div.sk-toggleable__content {max-height: 200px;max-width: 100%;overflow: auto;}#sk-container-id-2 input.sk-toggleable__control:checked~label.sk-toggleable__label-arrow:before {content: \"▾\";}#sk-container-id-2 div.sk-estimator input.sk-toggleable__control:checked~label.sk-toggleable__label {background-color: #d4ebff;}#sk-container-id-2 div.sk-label input.sk-toggleable__control:checked~label.sk-toggleable__label {background-color: #d4ebff;}#sk-container-id-2 input.sk-hidden--visually {border: 0;clip: rect(1px 1px 1px 1px);clip: rect(1px, 1px, 1px, 1px);height: 1px;margin: -1px;overflow: hidden;padding: 0;position: absolute;width: 1px;}#sk-container-id-2 div.sk-estimator {font-family: monospace;background-color: #f0f8ff;border: 1px dotted black;border-radius: 0.25em;box-sizing: border-box;margin-bottom: 0.5em;}#sk-container-id-2 div.sk-estimator:hover {background-color: #d4ebff;}#sk-container-id-2 div.sk-parallel-item::after {content: \"\";width: 100%;border-bottom: 1px solid gray;flex-grow: 1;}#sk-container-id-2 div.sk-label:hover label.sk-toggleable__label {background-color: #d4ebff;}#sk-container-id-2 div.sk-serial::before {content: \"\";position: absolute;border-left: 1px solid gray;box-sizing: border-box;top: 0;bottom: 0;left: 50%;z-index: 0;}#sk-container-id-2 div.sk-serial {display: flex;flex-direction: column;align-items: center;background-color: white;padding-right: 0.2em;padding-left: 0.2em;position: relative;}#sk-container-id-2 div.sk-item {position: relative;z-index: 1;}#sk-container-id-2 div.sk-parallel {display: flex;align-items: stretch;justify-content: center;background-color: white;position: relative;}#sk-container-id-2 div.sk-item::before, #sk-container-id-2 div.sk-parallel-item::before {content: \"\";position: absolute;border-left: 1px solid gray;box-sizing: border-box;top: 0;bottom: 0;left: 50%;z-index: -1;}#sk-container-id-2 div.sk-parallel-item {display: flex;flex-direction: column;z-index: 1;position: relative;background-color: white;}#sk-container-id-2 div.sk-parallel-item:first-child::after {align-self: flex-end;width: 50%;}#sk-container-id-2 div.sk-parallel-item:last-child::after {align-self: flex-start;width: 50%;}#sk-container-id-2 div.sk-parallel-item:only-child::after {width: 0;}#sk-container-id-2 div.sk-dashed-wrapped {border: 1px dashed gray;margin: 0 0.4em 0.5em 0.4em;box-sizing: border-box;padding-bottom: 0.4em;background-color: white;}#sk-container-id-2 div.sk-label label {font-family: monospace;font-weight: bold;display: inline-block;line-height: 1.2em;}#sk-container-id-2 div.sk-label-container {text-align: center;}#sk-container-id-2 div.sk-container {/* jupyter's `normalize.less` sets `[hidden] { display: none; }` but bootstrap.min.css set `[hidden] { display: none !important; }` so we also need the `!important` here to be able to override the default hidden behavior on the sphinx rendered scikit-learn.org. See: https://github.com/scikit-learn/scikit-learn/issues/21755 */display: inline-block !important;position: relative;}#sk-container-id-2 div.sk-text-repr-fallback {display: none;}</style><div id=\"sk-container-id-2\" class=\"sk-top-container\"><div class=\"sk-text-repr-fallback\"><pre>AgglomerativeClustering(distance_threshold=0, linkage=&#x27;single&#x27;,\n",
       "                        metric=&#x27;precomputed&#x27;, n_clusters=None)</pre><b>In a Jupyter environment, please rerun this cell to show the HTML representation or trust the notebook. <br />On GitHub, the HTML representation is unable to render, please try loading this page with nbviewer.org.</b></div><div class=\"sk-container\" hidden><div class=\"sk-item\"><div class=\"sk-estimator sk-toggleable\"><input class=\"sk-toggleable__control sk-hidden--visually\" id=\"sk-estimator-id-2\" type=\"checkbox\" checked><label for=\"sk-estimator-id-2\" class=\"sk-toggleable__label sk-toggleable__label-arrow\">AgglomerativeClustering</label><div class=\"sk-toggleable__content\"><pre>AgglomerativeClustering(distance_threshold=0, linkage=&#x27;single&#x27;,\n",
       "                        metric=&#x27;precomputed&#x27;, n_clusters=None)</pre></div></div></div></div></div>"
      ],
      "text/plain": [
       "AgglomerativeClustering(distance_threshold=0, linkage='single',\n",
       "                        metric='precomputed', n_clusters=None)"
      ]
     },
     "execution_count": 20,
     "metadata": {},
     "output_type": "execute_result"
    }
   ],
   "source": [
    "model = AgglomerativeClustering(\n",
    "    linkage='single', distance_threshold=0, n_clusters=None, metric='precomputed'\n",
    "    )\n",
    "model.fit(corD)"
   ]
  },
  {
   "cell_type": "code",
   "execution_count": 21,
   "id": "f4e412c0",
   "metadata": {},
   "outputs": [
    {
     "data": {
      "image/png": "[encoded data removed]",
      "text/plain": [
       "<Figure size 800x800 with 1 Axes>"
      ]
     },
     "metadata": {},
     "output_type": "display_data"
    }
   ],
   "source": [
    "linkage_cor = compute_linkage(model)\n",
    "fig , ax = plt.subplots (figsize =(8, 8))\n",
    "dendrogram(linkage_cor, ax=ax)\n",
    "ax.set_title(\"single linkage\");"
   ]
  },
  {
   "cell_type": "code",
   "execution_count": 22,
   "id": "e611eb6f",
   "metadata": {},
   "outputs": [
    {
     "data": {
      "text/html": [
       "<style>#sk-container-id-3 {color: black;}#sk-container-id-3 pre{padding: 0;}#sk-container-id-3 div.sk-toggleable {background-color: white;}#sk-container-id-3 label.sk-toggleable__label {cursor: pointer;display: block;width: 100%;margin-bottom: 0;padding: 0.3em;box-sizing: border-box;text-align: center;}#sk-container-id-3 label.sk-toggleable__label-arrow:before {content: \"▸\";float: left;margin-right: 0.25em;color: #696969;}#sk-container-id-3 label.sk-toggleable__label-arrow:hover:before {color: black;}#sk-container-id-3 div.sk-estimator:hover label.sk-toggleable__label-arrow:before {color: black;}#sk-container-id-3 div.sk-toggleable__content {max-height: 0;max-width: 0;overflow: hidden;text-align: left;background-color: #f0f8ff;}#sk-container-id-3 div.sk-toggleable__content pre {margin: 0.2em;color: black;border-radius: 0.25em;background-color: #f0f8ff;}#sk-container-id-3 input.sk-toggleable__control:checked~div.sk-toggleable__content {max-height: 200px;max-width: 100%;overflow: auto;}#sk-container-id-3 input.sk-toggleable__control:checked~label.sk-toggleable__label-arrow:before {content: \"▾\";}#sk-container-id-3 div.sk-estimator input.sk-toggleable__control:checked~label.sk-toggleable__label {background-color: #d4ebff;}#sk-container-id-3 div.sk-label input.sk-toggleable__control:checked~label.sk-toggleable__label {background-color: #d4ebff;}#sk-container-id-3 input.sk-hidden--visually {border: 0;clip: rect(1px 1px 1px 1px);clip: rect(1px, 1px, 1px, 1px);height: 1px;margin: -1px;overflow: hidden;padding: 0;position: absolute;width: 1px;}#sk-container-id-3 div.sk-estimator {font-family: monospace;background-color: #f0f8ff;border: 1px dotted black;border-radius: 0.25em;box-sizing: border-box;margin-bottom: 0.5em;}#sk-container-id-3 div.sk-estimator:hover {background-color: #d4ebff;}#sk-container-id-3 div.sk-parallel-item::after {content: \"\";width: 100%;border-bottom: 1px solid gray;flex-grow: 1;}#sk-container-id-3 div.sk-label:hover label.sk-toggleable__label {background-color: #d4ebff;}#sk-container-id-3 div.sk-serial::before {content: \"\";position: absolute;border-left: 1px solid gray;box-sizing: border-box;top: 0;bottom: 0;left: 50%;z-index: 0;}#sk-container-id-3 div.sk-serial {display: flex;flex-direction: column;align-items: center;background-color: white;padding-right: 0.2em;padding-left: 0.2em;position: relative;}#sk-container-id-3 div.sk-item {position: relative;z-index: 1;}#sk-container-id-3 div.sk-parallel {display: flex;align-items: stretch;justify-content: center;background-color: white;position: relative;}#sk-container-id-3 div.sk-item::before, #sk-container-id-3 div.sk-parallel-item::before {content: \"\";position: absolute;border-left: 1px solid gray;box-sizing: border-box;top: 0;bottom: 0;left: 50%;z-index: -1;}#sk-container-id-3 div.sk-parallel-item {display: flex;flex-direction: column;z-index: 1;position: relative;background-color: white;}#sk-container-id-3 div.sk-parallel-item:first-child::after {align-self: flex-end;width: 50%;}#sk-container-id-3 div.sk-parallel-item:last-child::after {align-self: flex-start;width: 50%;}#sk-container-id-3 div.sk-parallel-item:only-child::after {width: 0;}#sk-container-id-3 div.sk-dashed-wrapped {border: 1px dashed gray;margin: 0 0.4em 0.5em 0.4em;box-sizing: border-box;padding-bottom: 0.4em;background-color: white;}#sk-container-id-3 div.sk-label label {font-family: monospace;font-weight: bold;display: inline-block;line-height: 1.2em;}#sk-container-id-3 div.sk-label-container {text-align: center;}#sk-container-id-3 div.sk-container {/* jupyter's `normalize.less` sets `[hidden] { display: none; }` but bootstrap.min.css set `[hidden] { display: none !important; }` so we also need the `!important` here to be able to override the default hidden behavior on the sphinx rendered scikit-learn.org. See: https://github.com/scikit-learn/scikit-learn/issues/21755 */display: inline-block !important;position: relative;}#sk-container-id-3 div.sk-text-repr-fallback {display: none;}</style><div id=\"sk-container-id-3\" class=\"sk-top-container\"><div class=\"sk-text-repr-fallback\"><pre>AgglomerativeClustering(distance_threshold=0, linkage=&#x27;average&#x27;,\n",
       "                        metric=&#x27;precomputed&#x27;, n_clusters=None)</pre><b>In a Jupyter environment, please rerun this cell to show the HTML representation or trust the notebook. <br />On GitHub, the HTML representation is unable to render, please try loading this page with nbviewer.org.</b></div><div class=\"sk-container\" hidden><div class=\"sk-item\"><div class=\"sk-estimator sk-toggleable\"><input class=\"sk-toggleable__control sk-hidden--visually\" id=\"sk-estimator-id-3\" type=\"checkbox\" checked><label for=\"sk-estimator-id-3\" class=\"sk-toggleable__label sk-toggleable__label-arrow\">AgglomerativeClustering</label><div class=\"sk-toggleable__content\"><pre>AgglomerativeClustering(distance_threshold=0, linkage=&#x27;average&#x27;,\n",
       "                        metric=&#x27;precomputed&#x27;, n_clusters=None)</pre></div></div></div></div></div>"
      ],
      "text/plain": [
       "AgglomerativeClustering(distance_threshold=0, linkage='average',\n",
       "                        metric='precomputed', n_clusters=None)"
      ]
     },
     "execution_count": 22,
     "metadata": {},
     "output_type": "execute_result"
    }
   ],
   "source": [
    "model = AgglomerativeClustering(\n",
    "    linkage='average', distance_threshold=0, n_clusters=None, metric='precomputed'\n",
    "    )\n",
    "model.fit(corD)"
   ]
  },
  {
   "cell_type": "code",
   "execution_count": 23,
   "id": "e83b1929",
   "metadata": {},
   "outputs": [
    {
     "data": {
      "image/png": "[encoded data removed]",
      "text/plain": [
       "<Figure size 800x800 with 1 Axes>"
      ]
     },
     "metadata": {},
     "output_type": "display_data"
    }
   ],
   "source": [
    "linkage_cor = compute_linkage(model)\n",
    "fig , ax = plt.subplots (1, 1, figsize =(8, 8))\n",
    "dendrogram(linkage_cor , ax=ax , ** cargs)\n",
    "ax.set_title(\"average linkage\");"
   ]
  },
  {
   "cell_type": "markdown",
   "id": "be2af259",
   "metadata": {},
   "source": [
    "### 12.13.(c)"
   ]
  },
  {
   "cell_type": "code",
   "execution_count": 24,
   "id": "015a2a2e",
   "metadata": {},
   "outputs": [
    {
     "name": "stdout",
     "output_type": "stream",
     "text": [
      "\n",
      "      Let's think about the first principal component direction.\n",
      "      \n"
     ]
    }
   ],
   "source": [
    "print(f\"\"\"\n",
    "      Let's think about the first principal component direction.\n",
    "      \"\"\")"
   ]
  },
  {
   "cell_type": "code",
   "execution_count": 25,
   "id": "5553556b",
   "metadata": {},
   "outputs": [
    {
     "name": "stdout",
     "output_type": "stream",
     "text": [
      "\n",
      "      The first principal component explains 0.08108273167635424 of total variance.\n",
      "      That direction is a linear combination of 1000 genes,\n",
      "      so the largest contributing gene may be a suggestion: 501\n",
      "      \n"
     ]
    }
   ],
   "source": [
    "scaler = StandardScaler(with_std=True, with_mean=True)\n",
    "df_gen_scaled = scaler.fit_transform(df_gen)\n",
    "\n",
    "pca = PCA()\n",
    "pca.fit(df_gen_scaled)\n",
    "\n",
    "print(f\"\"\"\n",
    "      The first principal component explains {pca.explained_variance_ratio_[0]} of total variance.\n",
    "      That direction is a linear combination of 1000 genes,\n",
    "      so the largest contributing gene may be a suggestion: {np.abs(pca.components_[0]).argmax()}\n",
    "      \"\"\")"
   ]
  },
  {
   "cell_type": "markdown",
   "id": "188a4136",
   "metadata": {},
   "source": [
    "# Chapter 13"
   ]
  },
  {
   "cell_type": "markdown",
   "id": "2a2d22a5",
   "metadata": {},
   "source": [
    "## 1.\n",
    "\n",
    "### (a) $\\textcolor{red}{+3}$\n",
    "\n",
    "If we assume the independence, the number of type I errors follows $B(m, \\alpha)$ distribution.\n",
    "So we expect $m\\alpha$ rejections on average.\n",
    "\n",
    "### (b) $\\textcolor{red}{+2}$\n",
    "\n",
    "Family wise error rate is defined by the probability of at least one rejection happens.\n",
    "In other words, $1 - (1-\\alpha)^m$.\n",
    "\n",
    "### (c) $\\textcolor{red}{+3}$\n",
    "\n",
    "Since there are only two hypotheses, FWER $= 1-P(p_1 < \\alpha \\cap p_2 < \\alpha )$.\n",
    "By positive correlation, we have $P(p_1 < \\alpha \\cap p_2 < \\alpha) > P(p_1 < \\alpha) \\times P(p_2 < \\alpha)$.\n",
    "Therefore we have FWER $< 1-P(p_1<\\alpha)P(p_2 <\\alpha)$.\n",
    "\n",
    "### (d) $\\textcolor{red}{+2}$\n",
    "\n",
    "Negative correlation reverses the inequalities."
   ]
  },
  {
   "cell_type": "markdown",
   "id": "2283ab16",
   "metadata": {},
   "source": [
    "## 2.\n",
    "\n",
    "### (a)\n",
    "\n",
    "$P(A_j = 1) = \\alpha$ by the definition. So each $A_j$ follows Bernoulli distribution with $\\alpha$.\n",
    "\n",
    "### (b)\n",
    "\n",
    "Sum of $m$ Bernoulli trials is equal (in distribution) to Binomial $(m, \\alpha)$.\n",
    "\n",
    "### (c)\n",
    "\n",
    "Variance is well known to be $m\\alpha (1-\\alpha)$."
   ]
  },
  {
   "cell_type": "markdown",
   "id": "3c03ba1b",
   "metadata": {},
   "source": [
    "## 4.\n",
    "\n",
    "### (a)\n",
    "\n",
    "Hypotheses of which $p$-values are below $0.05$ will be rejected.\n",
    "\n",
    "### (b)\n",
    "\n",
    "Assume that we control each hypothesis at level $x$.\n",
    "Then FWER $= 1- (1-x)^{10} < 0.05$.\n",
    "By solving the inequality, we have $x < 0.0051$.\n",
    "Hypotheses of which $p$-values are below $x$ will be rejected.\n",
    "\n",
    "### (c)\n",
    "\n",
    "$\\frac{q \\times j}{10} = 0.005j$.\n",
    "So $L = 5$.\n",
    "Five hypotheses of smallest p-values are rejected.\n",
    "\n",
    "### (d)\n",
    "\n",
    "Threshold is $0.02j$, so $L = 8$.\n",
    "\n",
    "### (e)\n",
    "\n",
    "Recall the definition of FDR.\n",
    "It is the (expected) ratio of false positives and all positives.\n",
    "Thus $8 \\times 0.2 = 1.6$ type I errors are expected."
   ]
  },
  {
   "cell_type": "markdown",
   "id": "332ff0c7",
   "metadata": {},
   "source": [
    "## 5.\n",
    "\n",
    "### (a), (b), (c), (d) : skipped.\n",
    "\n",
    "### (e)\n",
    "\n",
    "Since it becomes harder to reject null hypotheses, the number of positive will decrease.\n",
    "However, we can be more confident to rejections."
   ]
  },
  {
   "cell_type": "code",
   "execution_count": 26,
   "id": "206fdd72",
   "metadata": {},
   "outputs": [],
   "source": [
    "from scipy.stats import ttest_1samp\n",
    "from statsmodels.stats.multitest import multipletests as mult_test"
   ]
  },
  {
   "cell_type": "markdown",
   "id": "511511d6",
   "metadata": {},
   "source": [
    "## Problem 13.8"
   ]
  },
  {
   "cell_type": "markdown",
   "id": "c56b2db0",
   "metadata": {},
   "source": [
    "### 13.8.(a)"
   ]
  },
  {
   "cell_type": "code",
   "execution_count": 27,
   "id": "b12fb7b5",
   "metadata": {},
   "outputs": [
    {
     "name": "stdout",
     "output_type": "stream",
     "text": [
      "100 one sample t-test p-values\n",
      "      pvalue\n",
      "0   0.053880\n",
      "1   0.202573\n",
      "2   0.856777\n",
      "3   0.619587\n",
      "4   0.466054\n",
      "..       ...\n",
      "95  0.121857\n",
      "96  0.325343\n",
      "97  0.130220\n",
      "98  0.437973\n",
      "99  0.896249\n",
      "\n",
      "[100 rows x 1 columns]\n"
     ]
    }
   ],
   "source": [
    "rng = np.random.default_rng(1)\n",
    "X = rng.normal(size = (20, 100))\n",
    "result = ttest_1samp(X,0)\n",
    "df_result = pd.DataFrame(result.pvalue, columns = ['pvalue'])\n",
    "print(\"100 one sample t-test p-values\")\n",
    "print(df_result)"
   ]
  },
  {
   "cell_type": "code",
   "execution_count": 28,
   "id": "62c7cc03",
   "metadata": {},
   "outputs": [
    {
     "data": {
      "image/png": "[encoded data removed]",
      "text/plain": [
       "<Figure size 640x480 with 1 Axes>"
      ]
     },
     "metadata": {},
     "output_type": "display_data"
    }
   ],
   "source": [
    "df_result_sorted = df_result.sort_values(by='pvalue', ascending=False) \n",
    "pvalues = df_result_sorted.values\n",
    "order = df_result_sorted.index\n",
    "plt.semilogy(pvalues, '.')\n",
    "plt.xlabel(\"indices\")\n",
    "plt.ylabel(\"p-value\")\n",
    "plt.title(\"sorted p-values\")\n",
    "plt.show()"
   ]
  },
  {
   "cell_type": "markdown",
   "id": "3de50ea6",
   "metadata": {},
   "source": [
    "### 13.8.(b)"
   ]
  },
  {
   "cell_type": "code",
   "execution_count": 29,
   "id": "0c5e36b8",
   "metadata": {},
   "outputs": [
    {
     "name": "stdout",
     "output_type": "stream",
     "text": [
      "      pvalue  reject\n",
      "66  0.962541   False\n",
      "18  0.917116   False\n",
      "12  0.916143   False\n",
      "73  0.911793   False\n",
      "32  0.909169   False\n",
      "..       ...     ...\n",
      "72  0.050266   False\n",
      "27  0.035539    True\n",
      "39  0.022933    True\n",
      "44  0.009551    True\n",
      "14  0.000807    True\n",
      "\n",
      "[100 rows x 2 columns]\n"
     ]
    }
   ],
   "source": [
    "df_result_sorted['reject'] = df_result_sorted <= 0.05\n",
    "print(df_result_sorted)"
   ]
  },
  {
   "cell_type": "code",
   "execution_count": 30,
   "id": "c483426c",
   "metadata": {},
   "outputs": [
    {
     "name": "stdout",
     "output_type": "stream",
     "text": [
      "\n",
      "      How many rejections?: 4.\n",
      "      \n"
     ]
    }
   ],
   "source": [
    "print(f\"\"\"\n",
    "      How many rejections?: {df_result_sorted[\"reject\"].sum()}.\n",
    "      \"\"\")"
   ]
  },
  {
   "cell_type": "markdown",
   "id": "0cf55cb0",
   "metadata": {},
   "source": [
    "### 13.8.(c)"
   ]
  },
  {
   "cell_type": "code",
   "execution_count": 31,
   "id": "b6494724",
   "metadata": {},
   "outputs": [
    {
     "name": "stdout",
     "output_type": "stream",
     "text": [
      "\n",
      "      We use the Bonferroni's method.\n",
      "      Then size for individual test should be 0.05/100 =  0.0005.\n",
      "      However, as shown in the previous answer, the smallest pvalue is 0.0008 > 0.0005.\n",
      "      Therefore nothing is rejected.\n",
      "      \n"
     ]
    }
   ],
   "source": [
    "print(f\"\"\"\n",
    "      We use the Bonferroni's method.\n",
    "      Then size for individual test should be 0.05/100 =  0.0005.\n",
    "      However, as shown in the previous answer, the smallest pvalue is 0.0008 > 0.0005.\n",
    "      Therefore nothing is rejected.\n",
    "      \"\"\")"
   ]
  },
  {
   "cell_type": "markdown",
   "id": "61e58c53",
   "metadata": {},
   "source": [
    "### 13.8.(d)"
   ]
  },
  {
   "cell_type": "code",
   "execution_count": 32,
   "id": "9ebcce92",
   "metadata": {},
   "outputs": [
    {
     "name": "stdout",
     "output_type": "stream",
     "text": [
      "\n",
      "      How many rejections?: 0.\n",
      "      \n"
     ]
    }
   ],
   "source": [
    "conclusions, *_ = mult_test(result.pvalue, method = \"fdr_bh\")\n",
    "print(f\"\"\"\n",
    "      How many rejections?: {conclusions.sum()}.\n",
    "      \"\"\")"
   ]
  },
  {
   "cell_type": "markdown",
   "id": "71e4b01d",
   "metadata": {},
   "source": [
    "### 13.8.(e) $\\textcolor{red}{+6}$"
   ]
  },
  {
   "cell_type": "code",
   "execution_count": 33,
   "id": "c6b4da17",
   "metadata": {},
   "outputs": [
    {
     "name": "stdout",
     "output_type": "stream",
     "text": [
      "small p-values -> did well\n",
      "\n",
      "      How many rejections?: 2.\n",
      "      \n"
     ]
    }
   ],
   "source": [
    "print(f\"small p-values -> did well\")\n",
    "indices = order[-10:]\n",
    "picked = pvalues[-10:].squeeze()\n",
    "conclusions, *_ = mult_test(picked, method = \"fdr_bh\")\n",
    "print(f\"\"\"\n",
    "      How many rejections?: {conclusions.sum()}.\n",
    "      \"\"\")"
   ]
  },
  {
   "cell_type": "markdown",
   "id": "47b7f441",
   "metadata": {},
   "source": [
    "### 13.8.(f) $\\textcolor{red}{+4}$\n",
    "\n",
    "It is the same to this: discarding observations of $x_i > 1$ when we are conducting a test $E[x] <1$."
   ]
  }
 ],
 "metadata": {
  "kernelspec": {
   "display_name": "Python 3 (ipykernel)",
   "language": "python",
   "name": "python3"
  },
  "language_info": {
   "codemirror_mode": {
    "name": "ipython",
    "version": 3
   },
   "file_extension": ".py",
   "mimetype": "text/x-python",
   "name": "python",
   "nbconvert_exporter": "python",
   "pygments_lexer": "ipython3",
   "version": "3.11.5"
  }
 },
 "nbformat": 4,
 "nbformat_minor": 5
}
