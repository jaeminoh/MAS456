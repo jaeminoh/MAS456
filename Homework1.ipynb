{
 "cells": [
  {
   "cell_type": "markdown",
   "metadata": {},
   "source": [
    "# 23 Fall MAS 456 Homework 1 Solution."
   ]
  },
  {
   "cell_type": "code",
   "execution_count": 1,
   "metadata": {},
   "outputs": [],
   "source": [
    "from ISLP import load_data\n",
    "import numpy as np\n",
    "import matplotlib.pyplot as plt\n",
    "import statsmodels.api as sm\n",
    "from ISLP.models import summarize"
   ]
  },
  {
   "cell_type": "markdown",
   "metadata": {},
   "source": [
    "### 2-2.\n",
    "\n",
    "(a)\n",
    "n = 500(observations)\n",
    "p = 3(profit, employees, industry)\n",
    "\n",
    "‘which factors affect CEO salary’ -> inference \n",
    "\n",
    "dependent variable = ‘CEO Salary’ -> regression\n",
    "\n",
    "(b)\n",
    "n = 20(similar products)\n",
    "p = 13(price, budget, competition price, 10 other variables)\n",
    "\n",
    "‘wish to know whether it will be a success or a failure’ -> prediction, classification \n",
    "\n",
    "dependent variable = (success or failure)\n",
    "\n",
    "(c)\n",
    "n = 52(weekly data for all of 2012)\n",
    "p = 3(US market, British market, German market)\n",
    "\n",
    "‘interested in predicting the % change in ~’ -> prediction, regression \n",
    "\n",
    "dependent variable = USD/Euro exchange rate"
   ]
  },
  {
   "cell_type": "markdown",
   "metadata": {},
   "source": [
    "### 2-3.\n",
    "\n",
    "(a). $\\textcolor{red}{+5}$ Sketch:\n",
    "![bias_variance](figures/hw1_2_3.png)\n",
    "\n",
    "(b). $\\textcolor{red}{+5}$\n",
    "\n",
    "As the model's flexibility increases, it becomes more inclined to fit the data \"perfectly,\" even with underlying errors such as measurement errors.\n",
    "\n",
    "This tendency can result in \"overfitting,\" in addition to capturing the relationship between the predictor variable and the response variable.\n",
    "\n",
    "As a result, we anticipate a potential decrease in training error and bias, increase in variance, accompanied by a \"U-shaped\" curve in the test error.\n",
    "\n",
    "It's essential to emphasize that irreducible error, including measurement error, remains unaffected by changes in model flexibility."
   ]
  },
  {
   "cell_type": "markdown",
   "metadata": {},
   "source": [
    "### 2-5.\n",
    "\n",
    "If we need interpretability, then less flexible model might be a good choice. $\\textcolor{red}{+5}$\n",
    "\n",
    "If we need prediction performance, then more flexible model would be better, given that there are enough data. $\\textcolor{red}{+5}$"
   ]
  },
  {
   "cell_type": "markdown",
   "metadata": {},
   "source": [
    "### 2-8. Skipped.\n",
    "\n",
    "By just following the instruction in the textbook, we can reproduce everything."
   ]
  },
  {
   "cell_type": "markdown",
   "metadata": {},
   "source": [
    "### 2-9."
   ]
  },
  {
   "cell_type": "markdown",
   "metadata": {},
   "source": [
    "(a) Quantitative: (mpg, cylinders, displacement, horsepower, weight, acceleration);\n",
    "Qualitative: (cylinders, year, origin, name);\n"
   ]
  },
  {
   "cell_type": "code",
   "execution_count": 2,
   "metadata": {},
   "outputs": [
    {
     "data": {
      "text/html": [
       "<div>\n",
       "<style scoped>\n",
       "    .dataframe tbody tr th:only-of-type {\n",
       "        vertical-align: middle;\n",
       "    }\n",
       "\n",
       "    .dataframe tbody tr th {\n",
       "        vertical-align: top;\n",
       "    }\n",
       "\n",
       "    .dataframe thead th {\n",
       "        text-align: right;\n",
       "    }\n",
       "</style>\n",
       "<table border=\"1\" class=\"dataframe\">\n",
       "  <thead>\n",
       "    <tr style=\"text-align: right;\">\n",
       "      <th></th>\n",
       "      <th>mpg</th>\n",
       "      <th>cylinders</th>\n",
       "      <th>displacement</th>\n",
       "      <th>horsepower</th>\n",
       "      <th>weight</th>\n",
       "      <th>acceleration</th>\n",
       "      <th>year</th>\n",
       "      <th>origin</th>\n",
       "      <th>name</th>\n",
       "    </tr>\n",
       "  </thead>\n",
       "  <tbody>\n",
       "    <tr>\n",
       "      <th>0</th>\n",
       "      <td>18.0</td>\n",
       "      <td>8</td>\n",
       "      <td>307.0</td>\n",
       "      <td>130</td>\n",
       "      <td>3504</td>\n",
       "      <td>12.0</td>\n",
       "      <td>70</td>\n",
       "      <td>1</td>\n",
       "      <td>chevrolet chevelle malibu</td>\n",
       "    </tr>\n",
       "    <tr>\n",
       "      <th>1</th>\n",
       "      <td>15.0</td>\n",
       "      <td>8</td>\n",
       "      <td>350.0</td>\n",
       "      <td>165</td>\n",
       "      <td>3693</td>\n",
       "      <td>11.5</td>\n",
       "      <td>70</td>\n",
       "      <td>1</td>\n",
       "      <td>buick skylark 320</td>\n",
       "    </tr>\n",
       "    <tr>\n",
       "      <th>2</th>\n",
       "      <td>18.0</td>\n",
       "      <td>8</td>\n",
       "      <td>318.0</td>\n",
       "      <td>150</td>\n",
       "      <td>3436</td>\n",
       "      <td>11.0</td>\n",
       "      <td>70</td>\n",
       "      <td>1</td>\n",
       "      <td>plymouth satellite</td>\n",
       "    </tr>\n",
       "    <tr>\n",
       "      <th>3</th>\n",
       "      <td>16.0</td>\n",
       "      <td>8</td>\n",
       "      <td>304.0</td>\n",
       "      <td>150</td>\n",
       "      <td>3433</td>\n",
       "      <td>12.0</td>\n",
       "      <td>70</td>\n",
       "      <td>1</td>\n",
       "      <td>amc rebel sst</td>\n",
       "    </tr>\n",
       "    <tr>\n",
       "      <th>4</th>\n",
       "      <td>17.0</td>\n",
       "      <td>8</td>\n",
       "      <td>302.0</td>\n",
       "      <td>140</td>\n",
       "      <td>3449</td>\n",
       "      <td>10.5</td>\n",
       "      <td>70</td>\n",
       "      <td>1</td>\n",
       "      <td>ford torino</td>\n",
       "    </tr>\n",
       "    <tr>\n",
       "      <th>...</th>\n",
       "      <td>...</td>\n",
       "      <td>...</td>\n",
       "      <td>...</td>\n",
       "      <td>...</td>\n",
       "      <td>...</td>\n",
       "      <td>...</td>\n",
       "      <td>...</td>\n",
       "      <td>...</td>\n",
       "      <td>...</td>\n",
       "    </tr>\n",
       "    <tr>\n",
       "      <th>387</th>\n",
       "      <td>27.0</td>\n",
       "      <td>4</td>\n",
       "      <td>140.0</td>\n",
       "      <td>86</td>\n",
       "      <td>2790</td>\n",
       "      <td>15.6</td>\n",
       "      <td>82</td>\n",
       "      <td>1</td>\n",
       "      <td>ford mustang gl</td>\n",
       "    </tr>\n",
       "    <tr>\n",
       "      <th>388</th>\n",
       "      <td>44.0</td>\n",
       "      <td>4</td>\n",
       "      <td>97.0</td>\n",
       "      <td>52</td>\n",
       "      <td>2130</td>\n",
       "      <td>24.6</td>\n",
       "      <td>82</td>\n",
       "      <td>2</td>\n",
       "      <td>vw pickup</td>\n",
       "    </tr>\n",
       "    <tr>\n",
       "      <th>389</th>\n",
       "      <td>32.0</td>\n",
       "      <td>4</td>\n",
       "      <td>135.0</td>\n",
       "      <td>84</td>\n",
       "      <td>2295</td>\n",
       "      <td>11.6</td>\n",
       "      <td>82</td>\n",
       "      <td>1</td>\n",
       "      <td>dodge rampage</td>\n",
       "    </tr>\n",
       "    <tr>\n",
       "      <th>390</th>\n",
       "      <td>28.0</td>\n",
       "      <td>4</td>\n",
       "      <td>120.0</td>\n",
       "      <td>79</td>\n",
       "      <td>2625</td>\n",
       "      <td>18.6</td>\n",
       "      <td>82</td>\n",
       "      <td>1</td>\n",
       "      <td>ford ranger</td>\n",
       "    </tr>\n",
       "    <tr>\n",
       "      <th>391</th>\n",
       "      <td>31.0</td>\n",
       "      <td>4</td>\n",
       "      <td>119.0</td>\n",
       "      <td>82</td>\n",
       "      <td>2720</td>\n",
       "      <td>19.4</td>\n",
       "      <td>82</td>\n",
       "      <td>1</td>\n",
       "      <td>chevy s-10</td>\n",
       "    </tr>\n",
       "  </tbody>\n",
       "</table>\n",
       "<p>392 rows × 9 columns</p>\n",
       "</div>"
      ],
      "text/plain": [
       "      mpg  cylinders  displacement  horsepower  weight  acceleration  year  \\\n",
       "0    18.0          8         307.0         130    3504          12.0    70   \n",
       "1    15.0          8         350.0         165    3693          11.5    70   \n",
       "2    18.0          8         318.0         150    3436          11.0    70   \n",
       "3    16.0          8         304.0         150    3433          12.0    70   \n",
       "4    17.0          8         302.0         140    3449          10.5    70   \n",
       "..    ...        ...           ...         ...     ...           ...   ...   \n",
       "387  27.0          4         140.0          86    2790          15.6    82   \n",
       "388  44.0          4          97.0          52    2130          24.6    82   \n",
       "389  32.0          4         135.0          84    2295          11.6    82   \n",
       "390  28.0          4         120.0          79    2625          18.6    82   \n",
       "391  31.0          4         119.0          82    2720          19.4    82   \n",
       "\n",
       "     origin                       name  \n",
       "0         1  chevrolet chevelle malibu  \n",
       "1         1          buick skylark 320  \n",
       "2         1         plymouth satellite  \n",
       "3         1              amc rebel sst  \n",
       "4         1                ford torino  \n",
       "..      ...                        ...  \n",
       "387       1            ford mustang gl  \n",
       "388       2                  vw pickup  \n",
       "389       1              dodge rampage  \n",
       "390       1                ford ranger  \n",
       "391       1                 chevy s-10  \n",
       "\n",
       "[392 rows x 9 columns]"
      ]
     },
     "execution_count": 2,
     "metadata": {},
     "output_type": "execute_result"
    }
   ],
   "source": [
    "auto = load_data(\"Auto\")\n",
    "auto"
   ]
  },
  {
   "cell_type": "markdown",
   "metadata": {},
   "source": [
    "(b)"
   ]
  },
  {
   "cell_type": "code",
   "execution_count": 3,
   "metadata": {},
   "outputs": [
    {
     "name": "stdout",
     "output_type": "stream",
     "text": [
      "[[   9.    46.6]\n",
      " [  68.   455. ]\n",
      " [  46.   230. ]\n",
      " [1613.  5140. ]\n",
      " [   8.    24.8]]\n"
     ]
    }
   ],
   "source": [
    "qual = [\"mpg\", \"displacement\", \"horsepower\", \"weight\", \"acceleration\"]\n",
    "rng = [(np.min(auto[q]), np.max(auto[q])) for q in qual]\n",
    "print(np.stack(rng))"
   ]
  },
  {
   "cell_type": "markdown",
   "metadata": {},
   "source": [
    "(c)"
   ]
  },
  {
   "cell_type": "code",
   "execution_count": 4,
   "metadata": {},
   "outputs": [
    {
     "name": "stdout",
     "output_type": "stream",
     "text": [
      "[[2.34459184e+01 7.79504576e+00]\n",
      " [1.94411990e+02 1.04510444e+02]\n",
      " [1.04469388e+02 3.84420327e+01]\n",
      " [2.97758418e+03 8.48318447e+02]\n",
      " [1.55413265e+01 2.75534291e+00]]\n"
     ]
    }
   ],
   "source": [
    "rng = [(np.mean(auto[q]), np.std(auto[q])) for q in qual]\n",
    "print(np.stack(rng))"
   ]
  },
  {
   "cell_type": "markdown",
   "metadata": {},
   "source": [
    "(d)"
   ]
  },
  {
   "cell_type": "code",
   "execution_count": 5,
   "metadata": {},
   "outputs": [
    {
     "name": "stdout",
     "output_type": "stream",
     "text": [
      "[[1.10000000e+01 4.66000000e+01 2.44044304e+01 7.85482473e+00]\n",
      " [6.80000000e+01 4.55000000e+02 1.87240506e+02 9.95205233e+01]\n",
      " [4.60000000e+01 2.30000000e+02 1.00721519e+02 3.56523072e+01]\n",
      " [1.64900000e+03 4.99700000e+03 2.93597152e+03 8.10015488e+02]\n",
      " [8.50000000e+00 2.48000000e+01 1.57268987e+01 2.68945512e+00]]\n"
     ]
    }
   ],
   "source": [
    "auto_cut = auto.to_numpy()\n",
    "indices = [0,2,3,4,5]\n",
    "auto_cut = np.concatenate([auto_cut[:9,indices], auto_cut[85:, indices]]).T\n",
    "stats = [(np.min(col), np.max(col), np.mean(col), np.std(col)) for col in auto_cut]\n",
    "print(np.stack(stats))"
   ]
  },
  {
   "cell_type": "markdown",
   "metadata": {},
   "source": [
    "### 3-1.\n",
    "\n",
    "Null hypothesis: There is no relationship between the predictor variable and the response varialbe, assuming that all other predictors are held constant. $\\textcolor{red}{+5}$\n",
    "\n",
    "We could assert that \"newspaper\" shows no association with \"sales\" when keeping other predictors (\"TV\" and \"radio\") constant.\n",
    "\n",
    "However, a non-negligible relationship is observed between \"TV\" and \"sales,\" assuming other predictors are held constant.\n",
    "\n",
    "Likewise, a relationship is evident between \"radio\" and \"sales,\" assuming other predictors are held constant. $\\textcolor{red}{+5}$"
   ]
  },
  {
   "cell_type": "markdown",
   "metadata": {},
   "source": [
    "### 3-4.\n",
    "\n",
    "(a) Cubic regression is more flexible, which means it fits the training data better. Thus, the training\n",
    "RSS for cubic regression is smaller than that for linear regression. $\\textcolor{red}{+3}$\n",
    "\n",
    "(b) We compare the values of bias and variance for the two regression methods. There is no difference of bias between linear and cubic regressions, because the true relationship is assumed to be linear. (There is a possibility of lower training RSS for cubic regression, since it can fit the measurement error $\\epsilon$.) However, the variance is bigger in cubic regression. Therefore, the test RSS for linear regression is expected to be smaller. $\\textcolor{red}{+3}$\n",
    "\n",
    "(c) Cubic regression is more flexible, which means it fits the training data better. Thus, the training RSS for cubic regression is smaller than that for linear regression. $\\textcolor{red}{+2}$\n",
    "\n",
    "(d) The variance is bigger in cubic regression. However, we cannot compare the values of bias between linear and cubic regressions, because the true relationship is unknown. Therefore, there is not enough information to compare the values of test RSS. $\\textcolor{red}{+2}$"
   ]
  },
  {
   "cell_type": "markdown",
   "metadata": {},
   "source": [
    "### 3-7.\n",
    "\n",
    "Let $S_{xy} = \\sum x_i y_i$.\n",
    "Then $\\text{Cor}^2 = \\frac{S_{xy}^2}{S_{xx}S_{yy}}$.\n",
    "Note that $\\hat{\\beta}_0 = \\overline{y} - \\hat{\\beta}_1 \\overline{x} = 0$ and $\\hat{\\beta}_1 = \\frac{S_{xy}}{S_{xx}}$.\n",
    "So $\\text{RSS} = S_{yy} - \\frac{S_{xy}^2}{S_{yy}}$.\n",
    "Therefore, $\\text{R}^2 = \\frac{S_{xy}^2}{S_{xx}S_{yy}} = \\text{Cor}^2$."
   ]
  },
  {
   "cell_type": "markdown",
   "metadata": {},
   "source": [
    "### 3-13."
   ]
  },
  {
   "cell_type": "markdown",
   "metadata": {},
   "source": [
    "(a, b) $\\textcolor{red}{+2}$"
   ]
  },
  {
   "cell_type": "code",
   "execution_count": 6,
   "metadata": {},
   "outputs": [
    {
     "data": {
      "image/png": "[encoded data removed]",
      "text/plain": [
       "<Figure size 800x400 with 2 Axes>"
      ]
     },
     "metadata": {},
     "output_type": "display_data"
    }
   ],
   "source": [
    "np.random.seed(seed=0)\n",
    "\n",
    "x = np.random.normal(loc=0,scale=1,size=(100,))\n",
    "eps = np.random.normal(loc=0,scale=np.sqrt(0.25),size=(100,))\n",
    "\n",
    "fig, (ax0, ax1) = plt.subplots(ncols=2, figsize=(8,4))\n",
    "ax0.plot(x, 'o')\n",
    "ax0.set_title(r'$x$')\n",
    "ax1.plot(eps, 'o')\n",
    "ax1.set_title(r\"$\\epsilon$\")\n",
    "plt.tight_layout()\n",
    "plt.show()"
   ]
  },
  {
   "cell_type": "markdown",
   "metadata": {},
   "source": [
    "(c, d) $\\textcolor{red}{+3}$ Of course $\\beta_0 = -1$ and $\\beta_1 = 0.5$. The length of the vector $Y$ is 100."
   ]
  },
  {
   "cell_type": "code",
   "execution_count": 7,
   "metadata": {},
   "outputs": [
    {
     "data": {
      "image/png": "[encoded data removed]",
      "text/plain": [
       "<Figure size 640x480 with 1 Axes>"
      ]
     },
     "metadata": {},
     "output_type": "display_data"
    }
   ],
   "source": [
    "y = -1 + 0.5*x + eps\n",
    "\n",
    "plt.plot(x, y, 'o')\n",
    "plt.xlabel('x')\n",
    "plt.ylabel('y')\n",
    "plt.title(r\"$y = -1 + 0.5x + \\epsilon$\")\n",
    "plt.show()"
   ]
  },
  {
   "cell_type": "markdown",
   "metadata": {},
   "source": [
    "(e, f) $\\textcolor{red}{+3}$ $\\hat{\\beta}_0 = -0.9624$ and $\\hat{\\beta}_1 = 0.5573$, which are quite close to the true values."
   ]
  },
  {
   "cell_type": "code",
   "execution_count": 8,
   "metadata": {},
   "outputs": [
    {
     "name": "stdout",
     "output_type": "stream",
     "text": [
      "         coef  std err       t  P>|t|\n",
      "const -0.9624    0.052 -18.500    0.0\n",
      "x1     0.5573    0.052  10.817    0.0\n"
     ]
    }
   ],
   "source": [
    "X = np.stack([np.ones((100,)), x], 1)\n",
    "model = sm.OLS(y, X)\n",
    "results = model.fit()\n",
    "\n",
    "print(summarize(results))"
   ]
  },
  {
   "cell_type": "code",
   "execution_count": 9,
   "metadata": {},
   "outputs": [
    {
     "data": {
      "image/png": "[encoded data removed]",
      "text/plain": [
       "<Figure size 640x480 with 1 Axes>"
      ]
     },
     "metadata": {},
     "output_type": "display_data"
    }
   ],
   "source": [
    "model_line = results.get_prediction(X).predicted_mean\n",
    "\n",
    "plt.plot(x, y, 'o', label=\"data\")\n",
    "plt.plot(x, model_line, label=\"lsq line\")\n",
    "plt.plot(x, -1+0.5*x, label=\"true line\")\n",
    "plt.xlabel(\"x\")\n",
    "plt.ylabel(\"y\")\n",
    "plt.title(\"LSQ line and data points\")\n",
    "plt.legend()\n",
    "plt.tight_layout()\n",
    "plt.show()"
   ]
  },
  {
   "cell_type": "markdown",
   "metadata": {},
   "source": [
    "(g) $\\textcolor{red}{+2}$ Since corresponding p-value of $\\hat{\\beta}_2$ is very big, we would say there is no effect of $x^2$."
   ]
  },
  {
   "cell_type": "code",
   "execution_count": 10,
   "metadata": {},
   "outputs": [
    {
     "name": "stdout",
     "output_type": "stream",
     "text": [
      "         coef  std err       t  P>|t|\n",
      "const -0.9286    0.066 -14.047  0.000\n",
      "x1     0.5615    0.052  10.829  0.000\n",
      "x2    -0.0334    0.040  -0.830  0.409\n"
     ]
    }
   ],
   "source": [
    "X_sq = np.concatenate([X, (x**2).reshape(-1,1)], 1)\n",
    "results_qmod = sm.OLS(y, X_sq).fit()\n",
    "\n",
    "print(summarize(results_qmod))"
   ]
  },
  {
   "cell_type": "markdown",
   "metadata": {},
   "source": [
    "(h, i) $\\textcolor{red}{+3}$ Code: skip. We may earn (better, worse) estimates $\\hat{\\beta}_i$'s than previous values."
   ]
  },
  {
   "cell_type": "markdown",
   "metadata": {},
   "source": [
    "(j) $\\textcolor{red}{+2}$ Code: skip. From original dataset, we obtain $(-1.06566085, -0.85918606)$ and $(0.45509907, 0.65959937)$ for $\\hat{\\beta}_0$ and $\\hat{\\beta}_1$ resepctively.\n",
    "For the noisier dataset, the widths of confidence intervals would be larger, and vice versa."
   ]
  },
  {
   "cell_type": "code",
   "execution_count": 11,
   "metadata": {},
   "outputs": [
    {
     "name": "stdout",
     "output_type": "stream",
     "text": [
      "CI for intercept:[-1.06566085 -0.85918606], and CI for coefficient:[0.45509907 0.65959937]\n"
     ]
    }
   ],
   "source": [
    "ci_0, ci_1 = results.conf_int()\n",
    "\n",
    "print(f\"CI for intercept:{ci_0}, and CI for coefficient:{ci_1}\")"
   ]
  },
  {
   "cell_type": "markdown",
   "metadata": {},
   "source": [
    "### 3-14."
   ]
  },
  {
   "cell_type": "markdown",
   "metadata": {},
   "source": [
    "(a, b) $y = 2 + 2x_1 + 0.3x_2 + e_1$, where $e_1 \\sim N(0,1)$.\n",
    "Further, $x_2 = 0.5 x_1 + 0.1 e_2$, so we may write $y = 2 + 2.15 x_1 + e_1 + 0.03e_2$,\n",
    "where $e_2 \\sim N(0,1)$ also.\n",
    "\n",
    "Therefore, $\\beta_0 = 2$ and $\\beta_1 = 2.15$."
   ]
  },
  {
   "cell_type": "code",
   "execution_count": 12,
   "metadata": {},
   "outputs": [
    {
     "data": {
      "image/png": "[encoded data removed]",
      "text/plain": [
       "<Figure size 640x480 with 1 Axes>"
      ]
     },
     "metadata": {},
     "output_type": "display_data"
    }
   ],
   "source": [
    "rng = np.random.default_rng(10)\n",
    "x1 = rng.uniform(0,1, size=100)\n",
    "x2 = 0.5*x1 + 0.1*rng.normal(size=100)\n",
    "y = 2+ 2*x1 + 0.3*x2 + rng.normal(size=100)\n",
    "\n",
    "plt.plot(x1, x2, 'o')\n",
    "plt.xlabel(\"x1\")\n",
    "plt.ylabel(\"x2\")\n",
    "plt.show()"
   ]
  },
  {
   "cell_type": "markdown",
   "metadata": {},
   "source": [
    "(c) The estimated coefficients are presentented below. We can reject $\\beta_1 = 0$ under the significance level $\\alpha = 0.05$, but cannot reject $\\beta_2 = 0$."
   ]
  },
  {
   "cell_type": "code",
   "execution_count": 13,
   "metadata": {},
   "outputs": [
    {
     "name": "stdout",
     "output_type": "stream",
     "text": [
      "         coef  std err       t  P>|t|\n",
      "const  1.9579    0.190  10.319  0.000\n",
      "x1     1.6154    0.527   3.065  0.003\n",
      "x2     0.9428    0.831   1.134  0.259\n"
     ]
    }
   ],
   "source": [
    "X = np.stack([np.ones(100,), x1, x2], 1)\n",
    "results_col = sm.OLS(y, X).fit()\n",
    "\n",
    "print(summarize(results_col))"
   ]
  },
  {
   "cell_type": "markdown",
   "metadata": {},
   "source": [
    "(d) The estimated parameters are below. We can reject the null $\\beta_1 = 0$."
   ]
  },
  {
   "cell_type": "code",
   "execution_count": 14,
   "metadata": {},
   "outputs": [
    {
     "name": "stdout",
     "output_type": "stream",
     "text": [
      "         coef  std err       t  P>|t|\n",
      "const  1.9371    0.189  10.242    0.0\n",
      "x1     2.0771    0.335   6.196    0.0\n"
     ]
    }
   ],
   "source": [
    "X1 = np.stack([np.ones((100,)), x1], 1)\n",
    "results_1 = sm.OLS(y, X1).fit()\n",
    "\n",
    "print(summarize(results_1))"
   ]
  },
  {
   "cell_type": "markdown",
   "metadata": {},
   "source": [
    "(e) Again, we can."
   ]
  },
  {
   "cell_type": "code",
   "execution_count": 15,
   "metadata": {},
   "outputs": [
    {
     "name": "stdout",
     "output_type": "stream",
     "text": [
      "         coef  std err       t  P>|t|\n",
      "const  2.3239    0.154  15.124    0.0\n",
      "x1     2.9103    0.550   5.291    0.0\n"
     ]
    }
   ],
   "source": [
    "X2 = np.stack([np.ones((100,)), x2], 1)\n",
    "results_2 = sm.OLS(y, X2).fit()\n",
    "\n",
    "print(summarize(results_2))"
   ]
  },
  {
   "cell_type": "markdown",
   "metadata": {},
   "source": [
    "(f) It seems there is a contradiction, since the coefficients of $x_2$ can be regarded as $0$ in (c), but not in (e).\n",
    "However, this is not a contradiction. We can represent $x_2$ in terms of $x_1$, and this leads redundancy of $\\beta_2$ in (c)."
   ]
  },
  {
   "cell_type": "markdown",
   "metadata": {},
   "source": [
    "(g) The new observation affects model (c) a lot, so it is a high leverage points. It is also an outlier of all three models."
   ]
  },
  {
   "cell_type": "code",
   "execution_count": 16,
   "metadata": {},
   "outputs": [],
   "source": [
    "x1 = np.append(x1, 0.1)\n",
    "x2 = np.append(x2, 0.8)\n",
    "y = np.append(y, 6)"
   ]
  },
  {
   "cell_type": "code",
   "execution_count": 17,
   "metadata": {},
   "outputs": [
    {
     "name": "stdout",
     "output_type": "stream",
     "text": [
      "         coef  std err       t  P>|t|\n",
      "const  2.0618    0.192  10.720  0.000\n",
      "x1     0.8575    0.466   1.838  0.069\n",
      "x2     2.2663    0.705   3.216  0.002\n",
      "         coef  std err       t  P>|t|\n",
      "const  2.0739    0.201  10.310    0.0\n",
      "x1     1.8760    0.358   5.236    0.0\n",
      "         coef  std err       t  P>|t|\n",
      "const  2.2840    0.151  15.088    0.0\n",
      "x1     3.1458    0.524   6.008    0.0\n"
     ]
    }
   ],
   "source": [
    "Xnew = np.stack([np.ones((101,)), x1, x2], 1)\n",
    "c = sm.OLS(y, Xnew).fit()\n",
    "d = sm.OLS(y, Xnew[:,:-1]).fit()\n",
    "e = sm.OLS(y, Xnew[:,[0,2]]).fit()\n",
    "\n",
    "print(summarize(c))\n",
    "print(summarize(d))\n",
    "print(summarize(e))"
   ]
  }
 ],
 "metadata": {
  "kernelspec": {
   "display_name": "Python 3 (ipykernel)",
   "language": "python",
   "name": "python3"
  },
  "language_info": {
   "codemirror_mode": {
    "name": "ipython",
    "version": 3
   },
   "file_extension": ".py",
   "mimetype": "text/x-python",
   "name": "python",
   "nbconvert_exporter": "python",
   "pygments_lexer": "ipython3",
   "version": "3.11.5"
  }
 },
 "nbformat": 4,
 "nbformat_minor": 4
}
